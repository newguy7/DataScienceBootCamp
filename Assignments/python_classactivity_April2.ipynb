{
  "nbformat": 4,
  "nbformat_minor": 0,
  "metadata": {
    "colab": {
      "provenance": [],
      "authorship_tag": "ABX9TyNncEBFvs/LLsbr/4DhF+Ev",
      "include_colab_link": true
    },
    "kernelspec": {
      "name": "python3",
      "display_name": "Python 3"
    },
    "language_info": {
      "name": "python"
    }
  },
  "cells": [
    {
      "cell_type": "markdown",
      "metadata": {
        "id": "view-in-github",
        "colab_type": "text"
      },
      "source": [
        "<a href=\"https://colab.research.google.com/github/newguy7/DataScienceBootCamp/blob/main/Assignments/python_classactivity_April2.ipynb\" target=\"_parent\"><img src=\"https://colab.research.google.com/assets/colab-badge.svg\" alt=\"Open In Colab\"/></a>"
      ]
    },
    {
      "cell_type": "code",
      "execution_count": 53,
      "metadata": {
        "colab": {
          "base_uri": "https://localhost:8080/"
        },
        "id": "KncP8q7ygq4U",
        "outputId": "85403dc1-0e5a-41f0-f4b5-7205d27577b4"
      },
      "outputs": [
        {
          "output_type": "stream",
          "name": "stdout",
          "text": [
            "[(2, 4)]\n"
          ]
        }
      ],
      "source": [
        "'''\n",
        "Two Sum Problem with Duplicates:\n",
        "Given an array of integers and a target sum, find all pairs of numbers that sum up to the target.\n",
        "Implement this using a dictionary to store the indices of each number.\n",
        "'''\n",
        "dict_indices = {}\n",
        "pairs = []\n",
        "\n",
        "def pair_numbers(arr,target_sum):\n",
        "  for i in range(0,len(arr)):\n",
        "    for j in range(i+1,len(arr)):\n",
        "      if(arr[i]+arr[j] == target_sum):\n",
        "        pairs.append((arr[i],arr[j]))\n",
        "      dict_indices[j] = i\n",
        "  return pairs\n",
        "\n",
        "# calling the function\n",
        "arr1 = [2,4,5,6]\n",
        "target_sum = 6\n",
        "res = pair_numbers(arr1, target_sum)\n",
        "print(res)\n",
        "\n",
        "\n"
      ]
    },
    {
      "cell_type": "code",
      "source": [
        "\n",
        "'''\n",
        "Top K Frequent Elements:\n",
        "Given a list of elements, find the k most frequent elements.\n",
        "Implement this using a dictionary to store the frequency of each element where element is key and frequency is value\n",
        "'''\n",
        "dict_frequency = {}\n",
        "\n",
        "def most_freq_elements(list_element,k):\n",
        "  for x in list_element:\n",
        "    dict_frequency[x] = dict_frequency.get(x, 0) + 1\n",
        "  #print(dict_frequency)\n",
        "  # sort the dictionary\n",
        "  sorted_dict = sorted(dict_frequency.items(), key=lambda num: num[1],reverse=True)\n",
        "  #print(sorted_dict)\n",
        "  # Take the first k elements from the sorted list\n",
        "  top_k = [item[0] for item in sorted_dict[:k]]\n",
        "  return top_k\n",
        "\n",
        "print(most_freq_elements([1,1,2,5,5,5,6,7,2],3))\n"
      ],
      "metadata": {
        "colab": {
          "base_uri": "https://localhost:8080/"
        },
        "id": "bhnta6Lmku8j",
        "outputId": "6a2f28c8-53da-48ff-f5a0-ac96ca2df4d6"
      },
      "execution_count": 58,
      "outputs": [
        {
          "output_type": "stream",
          "name": "stdout",
          "text": [
            "{1: 2, 2: 2, 5: 3, 6: 1, 7: 1}\n",
            "[(5, 3), (1, 2), (2, 2), (6, 1), (7, 1)]\n",
            "[5, 1, 2]\n"
          ]
        }
      ]
    },
    {
      "cell_type": "code",
      "source": [
        "'''\n",
        "Group Anagrams:\n",
        "Given a list of strings, group anagrams together.\n",
        "Implement this using a dictionary where the keys are sorted versions of the strings and the values are lists of anagrams.\n",
        "'''\n",
        "anagrams_dict = {}\n",
        "\n",
        "def group_anagrams(words):\n",
        "  for word in words:\n",
        "    # sorted version of strings\n",
        "    sorted_word = ''.join(sorted(word))\n",
        "\n",
        "    # check if the sorted version already exists as a key\n",
        "    if sorted_word in anagrams_dict:\n",
        "      # add the corresponding word as the value\n",
        "      anagrams_dict[sorted_word].append(word)\n",
        "    else:\n",
        "      # if not then create a new key and list of word\n",
        "      anagrams_dict[sorted_word] = [word]\n",
        "  return list(anagrams_dict.values())\n",
        "\n",
        "words = [\"god\", \"dog\", \"silent\", \"tab\", \"bat\", \"debit card\" , \"listen\", \"bad credit\"]\n",
        "\n",
        "print(group_anagrams(words))\n",
        "\n"
      ],
      "metadata": {
        "colab": {
          "base_uri": "https://localhost:8080/"
        },
        "id": "PVvQl0dAo5X3",
        "outputId": "3fb893bd-2ada-42e9-b959-da09c45bf718"
      },
      "execution_count": 54,
      "outputs": [
        {
          "output_type": "stream",
          "name": "stdout",
          "text": [
            "[['god', 'dog'], ['silent', 'listen'], ['tab', 'bat'], ['debit card', 'bad credit']]\n"
          ]
        }
      ]
    }
  ]
}
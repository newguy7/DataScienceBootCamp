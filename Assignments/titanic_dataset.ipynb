{
  "nbformat": 4,
  "nbformat_minor": 0,
  "metadata": {
    "colab": {
      "provenance": [],
      "authorship_tag": "ABX9TyO78rn6qAPt6I6EgNZKUpSo",
      "include_colab_link": true
    },
    "kernelspec": {
      "name": "python3",
      "display_name": "Python 3"
    },
    "language_info": {
      "name": "python"
    }
  },
  "cells": [
    {
      "cell_type": "markdown",
      "metadata": {
        "id": "view-in-github",
        "colab_type": "text"
      },
      "source": [
        "<a href=\"https://colab.research.google.com/github/newguy7/DataScienceBootCamp/blob/main/Assignments/titanic_dataset.ipynb\" target=\"_parent\"><img src=\"https://colab.research.google.com/assets/colab-badge.svg\" alt=\"Open In Colab\"/></a>"
      ]
    },
    {
      "cell_type": "code",
      "execution_count": 117,
      "metadata": {
        "colab": {
          "base_uri": "https://localhost:8080/"
        },
        "id": "CsDYuBBnLim6",
        "outputId": "5e6ea380-b45e-4521-884f-f7f7359f3f9f"
      },
      "outputs": [
        {
          "output_type": "stream",
          "name": "stdout",
          "text": [
            "PassengerId      0\n",
            "Survived         0\n",
            "Pclass           0\n",
            "Name             0\n",
            "Sex              0\n",
            "Age            177\n",
            "SibSp            0\n",
            "Parch            0\n",
            "Ticket           0\n",
            "Fare             0\n",
            "Cabin          687\n",
            "Embarked         2\n",
            "dtype: int64\n"
          ]
        }
      ],
      "source": [
        "import pandas as pd\n",
        "import matplotlib.pyplot as plt\n",
        "# load the dataset\n",
        "df = pd.read_csv('titanic_Train.csv')\n",
        "print(df.isna().sum())"
      ]
    },
    {
      "cell_type": "code",
      "source": [
        "# Total males and female Passengers\n",
        "gender_count = df['Sex'].value_counts()\n",
        "print(f\"Total Male Passengers: {gender_count.male}\")\n",
        "print(f\"Total Female Passengers: {gender_count.female}\")"
      ],
      "metadata": {
        "colab": {
          "base_uri": "https://localhost:8080/"
        },
        "id": "WFVBtQ9YNK-q",
        "outputId": "123932d6-2238-4e95-c420-18b240319ecc"
      },
      "execution_count": 118,
      "outputs": [
        {
          "output_type": "stream",
          "name": "stdout",
          "text": [
            "Total Male Passengers: 577\n",
            "Total Female Passengers: 314\n"
          ]
        }
      ]
    },
    {
      "cell_type": "code",
      "source": [
        "# How many males and female were travelling\n",
        "# plot bar chart\n",
        "x_labels_list = ['Male', 'Female']\n",
        "y_values_list = [gender_count['male'],gender_count['female']]\n",
        "\n",
        "# show value of each bar\n",
        "def add_labls(x,y):\n",
        "  for k in range(len(x)):\n",
        "    plt.text(k,y[k],y[k],ha='center',va='bottom')\n",
        "\n",
        "plt.bar(x_labels_list,y_values_list,color=['blue','green'])\n",
        "add_labls(x_labels_list,y_values_list)\n",
        "plt.xlabel('Sex')\n",
        "plt.ylabel('Number of passenger')\n",
        "plt.title('Total Male and Female Passengers')\n",
        "plt.show()"
      ],
      "metadata": {
        "colab": {
          "base_uri": "https://localhost:8080/",
          "height": 472
        },
        "id": "jpB7ppNsQbfi",
        "outputId": "13bbd7d3-0115-4bc2-f8d1-c2e6ec067a82"
      },
      "execution_count": 119,
      "outputs": [
        {
          "output_type": "display_data",
          "data": {
            "text/plain": [
              "<Figure size 640x480 with 1 Axes>"
            ],
            "image/png": "[encoded data removed]"
          },
          "metadata": {}
        }
      ]
    },
    {
      "cell_type": "code",
      "source": [
        "# Total Survived\n",
        "total_survived = df['Survived'].sum()\n",
        "print(f\"Total Passengers survived: {total_survived}\")\n",
        "\n",
        "# Total Survived males and female Passengers\n",
        "survived_count = df.groupby('Sex')['Survived'].sum()\n",
        "print(f\"Total Male Passengers survived: {survived_count.male}\")\n",
        "print(f\"Total Female Passengers survived: {survived_count.female}\")"
      ],
      "metadata": {
        "colab": {
          "base_uri": "https://localhost:8080/"
        },
        "id": "666jCACrNOar",
        "outputId": "03071245-09f7-4821-e6a1-65affcbd2eae"
      },
      "execution_count": 120,
      "outputs": [
        {
          "output_type": "stream",
          "name": "stdout",
          "text": [
            "Total Passengers survived: 342\n",
            "Total Male Passengers survived: 109\n",
            "Total Female Passengers survived: 233\n"
          ]
        }
      ]
    },
    {
      "cell_type": "code",
      "source": [
        "# How many male survived and how many  female survived\n",
        "# plot bar chart\n",
        "x_labels_list = ['Male', 'Female']\n",
        "y_values_list = [survived_count['male'],survived_count['female']]\n",
        "\n",
        "plt.bar(x_labels_list,y_values_list,color=['blue','green'])\n",
        "plt.xlabel('Sex')\n",
        "plt.ylabel('Number of passenger')\n",
        "plt.title('Total Survived Male and Female Passengers')\n",
        "# show value of each bar\n",
        "add_labls(x_labels_list,y_values_list)\n",
        "plt.show()"
      ],
      "metadata": {
        "colab": {
          "base_uri": "https://localhost:8080/",
          "height": 472
        },
        "id": "nXKD6gsmOLem",
        "outputId": "8fed7242-135a-403a-a831-bc30a278491f"
      },
      "execution_count": 121,
      "outputs": [
        {
          "output_type": "display_data",
          "data": {
            "text/plain": [
              "<Figure size 640x480 with 1 Axes>"
            ],
            "image/png": "[encoded data removed]"
          },
          "metadata": {}
        }
      ]
    },
    {
      "cell_type": "code",
      "source": [
        "# Max, Minumum and Average Price for Each Pclass\n",
        "fare_stats = df.groupby('Pclass')['Fare'].agg(['max', 'min', 'mean']).reset_index()\n",
        "fare_stats"
      ],
      "metadata": {
        "colab": {
          "base_uri": "https://localhost:8080/",
          "height": 143
        },
        "id": "fPPhnCZUQXIY",
        "outputId": "4e0a3601-d76f-421e-df92-9f902a341a95"
      },
      "execution_count": 122,
      "outputs": [
        {
          "output_type": "execute_result",
          "data": {
            "text/plain": [
              "   Pclass       max  min       mean\n",
              "0       1  512.3292  0.0  84.154687\n",
              "1       2   73.5000  0.0  20.662183\n",
              "2       3   69.5500  0.0  13.675550"
            ],
            "text/html": [
              "\n",
              "  <div id=\"df-c1889c8b-2cb3-419e-a9e0-9554f630f866\" class=\"colab-df-container\">\n",
              "    <div>\n",
              "<style scoped>\n",
              "    .dataframe tbody tr th:only-of-type {\n",
              "        vertical-align: middle;\n",
              "    }\n",
              "\n",
              "    .dataframe tbody tr th {\n",
              "        vertical-align: top;\n",
              "    }\n",
              "\n",
              "    .dataframe thead th {\n",
              "        text-align: right;\n",
              "    }\n",
              "</style>\n",
              "<table border=\"1\" class=\"dataframe\">\n",
              "  <thead>\n",
              "    <tr style=\"text-align: right;\">\n",
              "      <th></th>\n",
              "      <th>Pclass</th>\n",
              "      <th>max</th>\n",
              "      <th>min</th>\n",
              "      <th>mean</th>\n",
              "    </tr>\n",
              "  </thead>\n",
              "  <tbody>\n",
              "    <tr>\n",
              "      <th>0</th>\n",
              "      <td>1</td>\n",
              "      <td>512.3292</td>\n",
              "      <td>0.0</td>\n",
              "      <td>84.154687</td>\n",
              "    </tr>\n",
              "    <tr>\n",
              "      <th>1</th>\n",
              "      <td>2</td>\n",
              "      <td>73.5000</td>\n",
              "      <td>0.0</td>\n",
              "      <td>20.662183</td>\n",
              "    </tr>\n",
              "    <tr>\n",
              "      <th>2</th>\n",
              "      <td>3</td>\n",
              "      <td>69.5500</td>\n",
              "      <td>0.0</td>\n",
              "      <td>13.675550</td>\n",
              "    </tr>\n",
              "  </tbody>\n",
              "</table>\n",
              "</div>\n",
              "    <div class=\"colab-df-buttons\">\n",
              "\n",
              "  <div class=\"colab-df-container\">\n",
              "    <button class=\"colab-df-convert\" onclick=\"convertToInteractive('df-c1889c8b-2cb3-419e-a9e0-9554f630f866')\"\n",
              "            title=\"Convert this dataframe to an interactive table.\"\n",
              "            style=\"display:none;\">\n",
              "\n",
              "  <svg xmlns=\"http://www.w3.org/2000/svg\" height=\"24px\" viewBox=\"0 -960 960 960\">\n",
              "    <path d=\"M120-120v-720h720v720H120Zm60-500h600v-160H180v160Zm220 220h160v-160H400v160Zm0 220h160v-160H400v160ZM180-400h160v-160H180v160Zm440 0h160v-160H620v160ZM180-180h160v-160H180v160Zm440 0h160v-160H620v160Z\"/>\n",
              "  </svg>\n",
              "    </button>\n",
              "\n",
              "  <style>\n",
              "    .colab-df-container {\n",
              "      display:flex;\n",
              "      gap: 12px;\n",
              "    }\n",
              "\n",
              "    .colab-df-convert {\n",
              "      background-color: #E8F0FE;\n",
              "      border: none;\n",
              "      border-radius: 50%;\n",
              "      cursor: pointer;\n",
              "      display: none;\n",
              "      fill: #1967D2;\n",
              "      height: 32px;\n",
              "      padding: 0 0 0 0;\n",
              "      width: 32px;\n",
              "    }\n",
              "\n",
              "    .colab-df-convert:hover {\n",
              "      background-color: #E2EBFA;\n",
              "      box-shadow: 0px 1px 2px rgba(60, 64, 67, 0.3), 0px 1px 3px 1px rgba(60, 64, 67, 0.15);\n",
              "      fill: #174EA6;\n",
              "    }\n",
              "\n",
              "    .colab-df-buttons div {\n",
              "      margin-bottom: 4px;\n",
              "    }\n",
              "\n",
              "    [theme=dark] .colab-df-convert {\n",
              "      background-color: #3B4455;\n",
              "      fill: #D2E3FC;\n",
              "    }\n",
              "\n",
              "    [theme=dark] .colab-df-convert:hover {\n",
              "      background-color: #434B5C;\n",
              "      box-shadow: 0px 1px 3px 1px rgba(0, 0, 0, 0.15);\n",
              "      filter: drop-shadow(0px 1px 2px rgba(0, 0, 0, 0.3));\n",
              "      fill: #FFFFFF;\n",
              "    }\n",
              "  </style>\n",
              "\n",
              "    <script>\n",
              "      const buttonEl =\n",
              "        document.querySelector('#df-c1889c8b-2cb3-419e-a9e0-9554f630f866 button.colab-df-convert');\n",
              "      buttonEl.style.display =\n",
              "        google.colab.kernel.accessAllowed ? 'block' : 'none';\n",
              "\n",
              "      async function convertToInteractive(key) {\n",
              "        const element = document.querySelector('#df-c1889c8b-2cb3-419e-a9e0-9554f630f866');\n",
              "        const dataTable =\n",
              "          await google.colab.kernel.invokeFunction('convertToInteractive',\n",
              "                                                    [key], {});\n",
              "        if (!dataTable) return;\n",
              "\n",
              "        const docLinkHtml = 'Like what you see? Visit the ' +\n",
              "          '<a target=\"_blank\" href=https://colab.research.google.com/notebooks/data_table.ipynb>data table notebook</a>'\n",
              "          + ' to learn more about interactive tables.';\n",
              "        element.innerHTML = '';\n",
              "        dataTable['output_type'] = 'display_data';\n",
              "        await google.colab.output.renderOutput(dataTable, element);\n",
              "        const docLink = document.createElement('div');\n",
              "        docLink.innerHTML = docLinkHtml;\n",
              "        element.appendChild(docLink);\n",
              "      }\n",
              "    </script>\n",
              "  </div>\n",
              "\n",
              "\n",
              "<div id=\"df-aab3e8da-bfe6-4033-b083-d280a8141761\">\n",
              "  <button class=\"colab-df-quickchart\" onclick=\"quickchart('df-aab3e8da-bfe6-4033-b083-d280a8141761')\"\n",
              "            title=\"Suggest charts\"\n",
              "            style=\"display:none;\">\n",
              "\n",
              "<svg xmlns=\"http://www.w3.org/2000/svg\" height=\"24px\"viewBox=\"0 0 24 24\"\n",
              "     width=\"24px\">\n",
              "    <g>\n",
              "        <path d=\"M19 3H5c-1.1 0-2 .9-2 2v14c0 1.1.9 2 2 2h14c1.1 0 2-.9 2-2V5c0-1.1-.9-2-2-2zM9 17H7v-7h2v7zm4 0h-2V7h2v10zm4 0h-2v-4h2v4z\"/>\n",
              "    </g>\n",
              "</svg>\n",
              "  </button>\n",
              "\n",
              "<style>\n",
              "  .colab-df-quickchart {\n",
              "      --bg-color: #E8F0FE;\n",
              "      --fill-color: #1967D2;\n",
              "      --hover-bg-color: #E2EBFA;\n",
              "      --hover-fill-color: #174EA6;\n",
              "      --disabled-fill-color: #AAA;\n",
              "      --disabled-bg-color: #DDD;\n",
              "  }\n",
              "\n",
              "  [theme=dark] .colab-df-quickchart {\n",
              "      --bg-color: #3B4455;\n",
              "      --fill-color: #D2E3FC;\n",
              "      --hover-bg-color: #434B5C;\n",
              "      --hover-fill-color: #FFFFFF;\n",
              "      --disabled-bg-color: #3B4455;\n",
              "      --disabled-fill-color: #666;\n",
              "  }\n",
              "\n",
              "  .colab-df-quickchart {\n",
              "    background-color: var(--bg-color);\n",
              "    border: none;\n",
              "    border-radius: 50%;\n",
              "    cursor: pointer;\n",
              "    display: none;\n",
              "    fill: var(--fill-color);\n",
              "    height: 32px;\n",
              "    padding: 0;\n",
              "    width: 32px;\n",
              "  }\n",
              "\n",
              "  .colab-df-quickchart:hover {\n",
              "    background-color: var(--hover-bg-color);\n",
              "    box-shadow: 0 1px 2px rgba(60, 64, 67, 0.3), 0 1px 3px 1px rgba(60, 64, 67, 0.15);\n",
              "    fill: var(--button-hover-fill-color);\n",
              "  }\n",
              "\n",
              "  .colab-df-quickchart-complete:disabled,\n",
              "  .colab-df-quickchart-complete:disabled:hover {\n",
              "    background-color: var(--disabled-bg-color);\n",
              "    fill: var(--disabled-fill-color);\n",
              "    box-shadow: none;\n",
              "  }\n",
              "\n",
              "  .colab-df-spinner {\n",
              "    border: 2px solid var(--fill-color);\n",
              "    border-color: transparent;\n",
              "    border-bottom-color: var(--fill-color);\n",
              "    animation:\n",
              "      spin 1s steps(1) infinite;\n",
              "  }\n",
              "\n",
              "  @keyframes spin {\n",
              "    0% {\n",
              "      border-color: transparent;\n",
              "      border-bottom-color: var(--fill-color);\n",
              "      border-left-color: var(--fill-color);\n",
              "    }\n",
              "    20% {\n",
              "      border-color: transparent;\n",
              "      border-left-color: var(--fill-color);\n",
              "      border-top-color: var(--fill-color);\n",
              "    }\n",
              "    30% {\n",
              "      border-color: transparent;\n",
              "      border-left-color: var(--fill-color);\n",
              "      border-top-color: var(--fill-color);\n",
              "      border-right-color: var(--fill-color);\n",
              "    }\n",
              "    40% {\n",
              "      border-color: transparent;\n",
              "      border-right-color: var(--fill-color);\n",
              "      border-top-color: var(--fill-color);\n",
              "    }\n",
              "    60% {\n",
              "      border-color: transparent;\n",
              "      border-right-color: var(--fill-color);\n",
              "    }\n",
              "    80% {\n",
              "      border-color: transparent;\n",
              "      border-right-color: var(--fill-color);\n",
              "      border-bottom-color: var(--fill-color);\n",
              "    }\n",
              "    90% {\n",
              "      border-color: transparent;\n",
              "      border-bottom-color: var(--fill-color);\n",
              "    }\n",
              "  }\n",
              "</style>\n",
              "\n",
              "  <script>\n",
              "    async function quickchart(key) {\n",
              "      const quickchartButtonEl =\n",
              "        document.querySelector('#' + key + ' button');\n",
              "      quickchartButtonEl.disabled = true;  // To prevent multiple clicks.\n",
              "      quickchartButtonEl.classList.add('colab-df-spinner');\n",
              "      try {\n",
              "        const charts = await google.colab.kernel.invokeFunction(\n",
              "            'suggestCharts', [key], {});\n",
              "      } catch (error) {\n",
              "        console.error('Error during call to suggestCharts:', error);\n",
              "      }\n",
              "      quickchartButtonEl.classList.remove('colab-df-spinner');\n",
              "      quickchartButtonEl.classList.add('colab-df-quickchart-complete');\n",
              "    }\n",
              "    (() => {\n",
              "      let quickchartButtonEl =\n",
              "        document.querySelector('#df-aab3e8da-bfe6-4033-b083-d280a8141761 button');\n",
              "      quickchartButtonEl.style.display =\n",
              "        google.colab.kernel.accessAllowed ? 'block' : 'none';\n",
              "    })();\n",
              "  </script>\n",
              "</div>\n",
              "\n",
              "  <div id=\"id_c9af46e8-8972-4626-b08b-775a53713478\">\n",
              "    <style>\n",
              "      .colab-df-generate {\n",
              "        background-color: #E8F0FE;\n",
              "        border: none;\n",
              "        border-radius: 50%;\n",
              "        cursor: pointer;\n",
              "        display: none;\n",
              "        fill: #1967D2;\n",
              "        height: 32px;\n",
              "        padding: 0 0 0 0;\n",
              "        width: 32px;\n",
              "      }\n",
              "\n",
              "      .colab-df-generate:hover {\n",
              "        background-color: #E2EBFA;\n",
              "        box-shadow: 0px 1px 2px rgba(60, 64, 67, 0.3), 0px 1px 3px 1px rgba(60, 64, 67, 0.15);\n",
              "        fill: #174EA6;\n",
              "      }\n",
              "\n",
              "      [theme=dark] .colab-df-generate {\n",
              "        background-color: #3B4455;\n",
              "        fill: #D2E3FC;\n",
              "      }\n",
              "\n",
              "      [theme=dark] .colab-df-generate:hover {\n",
              "        background-color: #434B5C;\n",
              "        box-shadow: 0px 1px 3px 1px rgba(0, 0, 0, 0.15);\n",
              "        filter: drop-shadow(0px 1px 2px rgba(0, 0, 0, 0.3));\n",
              "        fill: #FFFFFF;\n",
              "      }\n",
              "    </style>\n",
              "    <button class=\"colab-df-generate\" onclick=\"generateWithVariable('fare_stats')\"\n",
              "            title=\"Generate code using this dataframe.\"\n",
              "            style=\"display:none;\">\n",
              "\n",
              "  <svg xmlns=\"http://www.w3.org/2000/svg\" height=\"24px\"viewBox=\"0 0 24 24\"\n",
              "       width=\"24px\">\n",
              "    <path d=\"M7,19H8.4L18.45,9,17,7.55,7,17.6ZM5,21V16.75L18.45,3.32a2,2,0,0,1,2.83,0l1.4,1.43a1.91,1.91,0,0,1,.58,1.4,1.91,1.91,0,0,1-.58,1.4L9.25,21ZM18.45,9,17,7.55Zm-12,3A5.31,5.31,0,0,0,4.9,8.1,5.31,5.31,0,0,0,1,6.5,5.31,5.31,0,0,0,4.9,4.9,5.31,5.31,0,0,0,6.5,1,5.31,5.31,0,0,0,8.1,4.9,5.31,5.31,0,0,0,12,6.5,5.46,5.46,0,0,0,6.5,12Z\"/>\n",
              "  </svg>\n",
              "    </button>\n",
              "    <script>\n",
              "      (() => {\n",
              "      const buttonEl =\n",
              "        document.querySelector('#id_c9af46e8-8972-4626-b08b-775a53713478 button.colab-df-generate');\n",
              "      buttonEl.style.display =\n",
              "        google.colab.kernel.accessAllowed ? 'block' : 'none';\n",
              "\n",
              "      buttonEl.onclick = () => {\n",
              "        google.colab.notebook.generateWithVariable('fare_stats');\n",
              "      }\n",
              "      })();\n",
              "    </script>\n",
              "  </div>\n",
              "\n",
              "    </div>\n",
              "  </div>\n"
            ],
            "application/vnd.google.colaboratory.intrinsic+json": {
              "type": "dataframe",
              "variable_name": "fare_stats",
              "summary": "{\n  \"name\": \"fare_stats\",\n  \"rows\": 3,\n  \"fields\": [\n    {\n      \"column\": \"Pclass\",\n      \"properties\": {\n        \"dtype\": \"number\",\n        \"std\": 1,\n        \"min\": 1,\n        \"max\": 3,\n        \"num_unique_values\": 3,\n        \"samples\": [\n          1,\n          2,\n          3\n        ],\n        \"semantic_type\": \"\",\n        \"description\": \"\"\n      }\n    },\n    {\n      \"column\": \"max\",\n      \"properties\": {\n        \"dtype\": \"number\",\n        \"std\": 254.50608677242542,\n        \"min\": 69.55,\n        \"max\": 512.3292,\n        \"num_unique_values\": 3,\n        \"samples\": [\n          512.3292,\n          73.5,\n          69.55\n        ],\n        \"semantic_type\": \"\",\n        \"description\": \"\"\n      }\n    },\n    {\n      \"column\": \"min\",\n      \"properties\": {\n        \"dtype\": \"number\",\n        \"std\": 0.0,\n        \"min\": 0.0,\n        \"max\": 0.0,\n        \"num_unique_values\": 1,\n        \"samples\": [\n          0.0\n        ],\n        \"semantic_type\": \"\",\n        \"description\": \"\"\n      }\n    },\n    {\n      \"column\": \"mean\",\n      \"properties\": {\n        \"dtype\": \"number\",\n        \"std\": 38.83173092143531,\n        \"min\": 13.675550101832993,\n        \"max\": 84.1546875,\n        \"num_unique_values\": 3,\n        \"samples\": [\n          84.1546875\n        ],\n        \"semantic_type\": \"\",\n        \"description\": \"\"\n      }\n    }\n  ]\n}"
            }
          },
          "metadata": {},
          "execution_count": 122
        }
      ]
    },
    {
      "cell_type": "code",
      "source": [
        "average_passenger_class = df.groupby('Pclass').agg({'Fare':'mean'}).reset_index()\n",
        "\n",
        "class1_avgfare = average_passenger_class.Fare[0]\n",
        "class2_avgfare = average_passenger_class.Fare[1]\n",
        "class3_avgfare = average_passenger_class.Fare[2]\n",
        "\n",
        "# plot bar chart\n",
        "x_labels_list = ['Class1', 'Class2', 'Class3']\n",
        "y_values_list = [class1_avgfare,class2_avgfare,class3_avgfare]\n",
        "\n",
        "# show value of each bar\n",
        "def add_labls_price(x,y):\n",
        "  for k in range(len(x)):\n",
        "    plt.text(k,y[k],'$'+str(round(y[k],2)),ha='center',va='bottom')\n",
        "\n",
        "plt.bar(x_labels_list,y_values_list,color=['blue','green','red'])\n",
        "\n",
        "add_labls_price(x_labels_list,y_values_list)\n",
        "plt.title('Average Price for Each Pclass')\n",
        "plt.show()\n"
      ],
      "metadata": {
        "colab": {
          "base_uri": "https://localhost:8080/",
          "height": 452
        },
        "id": "F3t4qJkrQXBJ",
        "outputId": "9cf60c19-6d95-4fc4-9088-ff8be7be62d2"
      },
      "execution_count": 123,
      "outputs": [
        {
          "output_type": "display_data",
          "data": {
            "text/plain": [
              "<Figure size 640x480 with 1 Axes>"
            ],
            "image/png": "[encoded data removed]"
          },
          "metadata": {}
        }
      ]
    },
    {
      "cell_type": "code",
      "source": [
        "max_passenger_class = df.groupby('Pclass').agg({'Fare':'max'}).reset_index()\n",
        "class1_maxfare = max_passenger_class.Fare[0]\n",
        "class2_maxfare = max_passenger_class.Fare[1]\n",
        "class3_maxfare = max_passenger_class.Fare[2]\n",
        "\n",
        "# plot bar chart\n",
        "x_labels_list = ['Class1', 'Class2', 'Class3']\n",
        "y_values_list = [class1_maxfare,class2_maxfare,class3_maxfare]\n",
        "\n",
        "plt.bar(x_labels_list,y_values_list,color=['blue','green','red'])\n",
        "# show value of each bar\n",
        "add_labls_price(x_labels_list,y_values_list)\n",
        "plt.title('Maximum Price for Each Pclass')\n",
        "plt.show()"
      ],
      "metadata": {
        "colab": {
          "base_uri": "https://localhost:8080/",
          "height": 452
        },
        "id": "fPmk0eM2R7Ou",
        "outputId": "76a32136-7ab0-4f37-879a-fb564dbaea3e"
      },
      "execution_count": 124,
      "outputs": [
        {
          "output_type": "display_data",
          "data": {
            "text/plain": [
              "<Figure size 640x480 with 1 Axes>"
            ],
            "image/png": "[encoded data removed]"
          },
          "metadata": {}
        }
      ]
    },
    {
      "cell_type": "code",
      "source": [
        "# Without filling Nan values for age with mean\n",
        "# Which Age people survived the most 1-14 child , 14-30 adults , 30+ OLD\n",
        "child_df = df[df.Age < 15]\n",
        "total_child_survived = child_df['Survived'].sum()\n",
        "\n",
        "adult_df = df[(df['Age'] >= 15) & (df['Age'] <= 30)]\n",
        "total_adult_survived = adult_df['Survived'].sum()\n",
        "\n",
        "old_df = df[df.Age > 30]\n",
        "total_old_survived = old_df['Survived'].sum()\n",
        "\n",
        "# plot bar chart\n",
        "x_labels_list = ['Child', 'Adult', 'Old']\n",
        "y_values_list = [total_child_survived,total_adult_survived,total_old_survived]\n",
        "\n",
        "plt.bar(x_labels_list,y_values_list,color=['blue','green','red'])\n",
        "# show value of each bar\n",
        "add_labls(x_labels_list,y_values_list)\n",
        "plt.title('Total Survival by Age Group')\n",
        "plt.show()"
      ],
      "metadata": {
        "colab": {
          "base_uri": "https://localhost:8080/",
          "height": 452
        },
        "id": "0X7L07CEp1fe",
        "outputId": "673d99f4-6f66-414e-961f-cd9e3b02aa27"
      },
      "execution_count": 125,
      "outputs": [
        {
          "output_type": "display_data",
          "data": {
            "text/plain": [
              "<Figure size 640x480 with 1 Axes>"
            ],
            "image/png": "[encoded data removed]"
          },
          "metadata": {}
        }
      ]
    },
    {
      "cell_type": "code",
      "source": [
        "# How many people were going to\n",
        "# C = Cherbourg, Q = Queenstown, S = Southampton also how many males and females\n",
        "\n",
        "destination_df = df.groupby('Embarked').count()\n",
        "print(destination_df)\n",
        "C_df = destination_df[destination_df.index=='C']\n",
        "traveling_C = C_df.loc['C', 'PassengerId']\n",
        "\n",
        "Q_df = destination_df[destination_df.index=='Q']\n",
        "traveling_Q = Q_df.loc['Q', 'PassengerId']\n",
        "\n",
        "S_df = destination_df[destination_df.index=='S']\n",
        "traveling_S = S_df.loc['S', 'PassengerId']\n",
        "\n",
        "# plot bar chart\n",
        "x_labels_list = ['Cherbourg', 'Queenstown', 'Southampton']\n",
        "y_values_list = [traveling_C,traveling_Q,traveling_S]\n",
        "\n",
        "plt.bar(x_labels_list,y_values_list,color=['blue','green','red'])\n",
        "# show value of each bar\n",
        "add_labls(x_labels_list,y_values_list)\n",
        "plt.title('People Travelling to Each Embarked')\n",
        "plt.show()"
      ],
      "metadata": {
        "colab": {
          "base_uri": "https://localhost:8080/",
          "height": 643
        },
        "id": "MIMNfsoSS936",
        "outputId": "d9ce0811-ed67-486e-ef75-3c75a0468c99"
      },
      "execution_count": 126,
      "outputs": [
        {
          "output_type": "stream",
          "name": "stdout",
          "text": [
            "          PassengerId  Survived  Pclass  Name  Sex  Age  SibSp  Parch  Ticket  \\\n",
            "Embarked                                                                        \n",
            "C                 168       168     168   168  168  130    168    168     168   \n",
            "Q                  77        77      77    77   77   28     77     77      77   \n",
            "S                 644       644     644   644  644  554    644    644     644   \n",
            "\n",
            "          Fare  Cabin  \n",
            "Embarked               \n",
            "C          168     69  \n",
            "Q           77      4  \n",
            "S          644    129  \n"
          ]
        },
        {
          "output_type": "display_data",
          "data": {
            "text/plain": [
              "<Figure size 640x480 with 1 Axes>"
            ],
            "image/png": "[encoded data removed]"
          },
          "metadata": {}
        }
      ]
    },
    {
      "cell_type": "code",
      "source": [
        "import numpy as np\n",
        "# How many male and female traveling to each destination\n",
        "total = df.groupby('Embarked')['Sex'].value_counts()\n",
        "print('Total Male and Female traveling to each destination:\\n',total)\n",
        "\n",
        "\n",
        "traveling_C_male = total['C',   'male']\n",
        "traveling_C_female = total['C',   'female']\n",
        "\n",
        "traveling_Q_male = total['Q',   'male']\n",
        "traveling_Q_female = total['Q',   'female']\n",
        "\n",
        "traveling_S_male = total['S',   'male']\n",
        "traveling_S_female = total['S',   'female']\n",
        "\n",
        "male_counts = [traveling_C_male,traveling_Q_male,traveling_S_male]\n",
        "female_counts = [traveling_C_female,traveling_Q_female,traveling_S_female]\n",
        "\n",
        "# show value of each bar\n",
        "def add_labls_multibar(x,y,z):\n",
        "  for k in range(len(x)):\n",
        "    plt.text(x[k]-0.2,y[k],y[k],ha='center',va='bottom')\n",
        "    plt.text(x[k]+0.2,z[k],z[k],ha='center',va='bottom')\n",
        "\n",
        "# plot bar chart\n",
        "x_labels_list = ['Cherbourg', 'Queenstown', 'Southampton']\n",
        "x = np.arange(len(x_labels_list))\n",
        "width=0.4\n",
        "\n",
        "plt.figure(figsize=(8,6))\n",
        "plt.bar(x-0.2,male_counts,color='blue',label='Male',width=width)\n",
        "plt.bar(x+0.2,female_counts,color='green',label='Female',width=width)\n",
        "plt.xticks(x,x_labels_list)\n",
        "add_labls_multibar(x,male_counts,female_counts)\n",
        "\n",
        "plt.ylabel('Number of Passengers')\n",
        "plt.title('Number of Passengers by Gender and Destination')\n",
        "plt.legend()\n",
        "plt.show()"
      ],
      "metadata": {
        "colab": {
          "base_uri": "https://localhost:8080/",
          "height": 701
        },
        "id": "Tpsde-EmdmTB",
        "outputId": "5e54dbf0-fad8-4dbb-a32e-3948c7260c99"
      },
      "execution_count": 159,
      "outputs": [
        {
          "output_type": "stream",
          "name": "stdout",
          "text": [
            "Total Male and Female traveling to each destination:\n",
            " Embarked  Sex   \n",
            "C         male       95\n",
            "          female     73\n",
            "Q         male       41\n",
            "          female     36\n",
            "S         male      441\n",
            "          female    203\n",
            "Name: count, dtype: int64\n"
          ]
        },
        {
          "output_type": "display_data",
          "data": {
            "text/plain": [
              "<Figure size 800x600 with 1 Axes>"
            ],
            "image/png": "[encoded data removed]"
          },
          "metadata": {}
        }
      ]
    },
    {
      "cell_type": "code",
      "source": [
        "# Remove unwanted observations\n",
        "clean_df = df.drop(['PassengerId','Name','Ticket'],axis=1)\n",
        "clean_df.info()"
      ],
      "metadata": {
        "colab": {
          "base_uri": "https://localhost:8080/"
        },
        "id": "BXR6_TgMXWp5",
        "outputId": "4657e6ea-0e5e-4f4d-b20c-431f30565f22"
      },
      "execution_count": 128,
      "outputs": [
        {
          "output_type": "stream",
          "name": "stdout",
          "text": [
            "<class 'pandas.core.frame.DataFrame'>\n",
            "RangeIndex: 891 entries, 0 to 890\n",
            "Data columns (total 9 columns):\n",
            " #   Column    Non-Null Count  Dtype  \n",
            "---  ------    --------------  -----  \n",
            " 0   Survived  891 non-null    int64  \n",
            " 1   Pclass    891 non-null    int64  \n",
            " 2   Sex       891 non-null    object \n",
            " 3   Age       714 non-null    float64\n",
            " 4   SibSp     891 non-null    int64  \n",
            " 5   Parch     891 non-null    int64  \n",
            " 6   Fare      891 non-null    float64\n",
            " 7   Cabin     204 non-null    object \n",
            " 8   Embarked  889 non-null    object \n",
            "dtypes: float64(2), int64(4), object(3)\n",
            "memory usage: 62.8+ KB\n"
          ]
        }
      ]
    },
    {
      "cell_type": "code",
      "source": [
        "# Checking for Nan values\n",
        "num_cols = ['Survived','Pclass','Age','SibSp','Parch','Fare']\n",
        "check_nan = clean_df.isna().values.any()\n",
        "print(f\"Nan values found in the dataframe?: {check_nan}\")\n",
        "\n",
        "# check how many nan in each column\n",
        "clean_df.isna().sum()"
      ],
      "metadata": {
        "colab": {
          "base_uri": "https://localhost:8080/"
        },
        "id": "ur0fZSgOXprH",
        "outputId": "4abbb439-f8ae-4400-c7bd-6207d8997d38"
      },
      "execution_count": 129,
      "outputs": [
        {
          "output_type": "stream",
          "name": "stdout",
          "text": [
            "Nan values found in the dataframe?: True\n"
          ]
        },
        {
          "output_type": "execute_result",
          "data": {
            "text/plain": [
              "Survived      0\n",
              "Pclass        0\n",
              "Sex           0\n",
              "Age         177\n",
              "SibSp         0\n",
              "Parch         0\n",
              "Fare          0\n",
              "Cabin       687\n",
              "Embarked      2\n",
              "dtype: int64"
            ]
          },
          "metadata": {},
          "execution_count": 129
        }
      ]
    },
    {
      "cell_type": "code",
      "source": [
        "# Number of missing values\n",
        "number_nan = clean_df['Age'].isna().values.sum()\n",
        "print(f\"There are {number_nan} missing values in the dataframe.\")\n",
        "\n",
        "number_nan = clean_df['Cabin'].isna().values.sum()\n",
        "print(f\"There are {number_nan} missing values in the dataframe.\")\n",
        "\n",
        "number_nan = clean_df['Embarked'].isna().values.sum()\n",
        "print(f\"There are {number_nan} missing values in the dataframe.\")"
      ],
      "metadata": {
        "colab": {
          "base_uri": "https://localhost:8080/"
        },
        "id": "1okQlpRcX5Qu",
        "outputId": "e9f288cf-2236-420b-c57e-b4d2d01c10ad"
      },
      "execution_count": 130,
      "outputs": [
        {
          "output_type": "stream",
          "name": "stdout",
          "text": [
            "There are 177 missing values in the dataframe.\n",
            "There are 687 missing values in the dataframe.\n",
            "There are 2 missing values in the dataframe.\n"
          ]
        }
      ]
    },
    {
      "cell_type": "code",
      "source": [
        "# Remove Cabin column. It has too many nan values\n",
        "# clean_df.drop(['Cabin'],axis=1,inplace=True)\n",
        "clean_df.dtypes"
      ],
      "metadata": {
        "colab": {
          "base_uri": "https://localhost:8080/"
        },
        "id": "N1GNtYBuZwds",
        "outputId": "aa1f5227-983d-4209-b8d7-31691e830248"
      },
      "execution_count": 131,
      "outputs": [
        {
          "output_type": "execute_result",
          "data": {
            "text/plain": [
              "Survived      int64\n",
              "Pclass        int64\n",
              "Sex          object\n",
              "Age         float64\n",
              "SibSp         int64\n",
              "Parch         int64\n",
              "Fare        float64\n",
              "Cabin        object\n",
              "Embarked     object\n",
              "dtype: object"
            ]
          },
          "metadata": {},
          "execution_count": 131
        }
      ]
    },
    {
      "cell_type": "code",
      "source": [
        "import numpy as np\n",
        "from sklearn.impute import SimpleImputer\n",
        "\n",
        "\n",
        "# Categorical and Numerical Columns\n",
        "cat_col = clean_df.loc[:,df.dtypes==object]\n",
        "num_col = clean_df.loc[:,df.dtypes!=object]\n",
        "num_cols = num_col.columns\n",
        "\n",
        "# fill the rows with NA value\n",
        "num_mean = SimpleImputer(missing_values=np.nan, strategy='mean')\n",
        "num_mean.fit(num_col)\n",
        "\n",
        "num_col = num_mean.transform(num_col)\n",
        "num_col = pd.DataFrame(num_col,columns =num_cols)\n",
        "\n",
        "# converting age to int\n",
        "num_col['Age'] = num_col['Age'].astype(int)\n",
        "num_col\n",
        "\n",
        "total_df = pd.concat([cat_col,num_col],axis=1)\n"
      ],
      "metadata": {
        "id": "idIXBj2cayUV"
      },
      "execution_count": 132,
      "outputs": []
    },
    {
      "cell_type": "code",
      "source": [
        "# Checking for Nan values\n",
        "check_nan = total_df.isna().values.any()\n",
        "print(f\"Nan values found in the dataframe?: {check_nan}\")\n",
        "\n",
        "# Removing the remaining rows with nan value\n",
        "total_df.dropna(inplace=True)"
      ],
      "metadata": {
        "colab": {
          "base_uri": "https://localhost:8080/"
        },
        "id": "BvIEGiNqeLd3",
        "outputId": "bf7dc7bc-c78d-42c1-8eba-aaf6b365ad4b"
      },
      "execution_count": 133,
      "outputs": [
        {
          "output_type": "stream",
          "name": "stdout",
          "text": [
            "Nan values found in the dataframe?: True\n"
          ]
        }
      ]
    },
    {
      "cell_type": "code",
      "source": [
        "total_df.isna().sum()"
      ],
      "metadata": {
        "colab": {
          "base_uri": "https://localhost:8080/"
        },
        "id": "VyF7Y3W2eXF-",
        "outputId": "5bd264b0-7ff9-45eb-cc35-d55b85f625c8"
      },
      "execution_count": 134,
      "outputs": [
        {
          "output_type": "execute_result",
          "data": {
            "text/plain": [
              "Sex         0\n",
              "Cabin       0\n",
              "Embarked    0\n",
              "Survived    0\n",
              "Pclass      0\n",
              "Age         0\n",
              "SibSp       0\n",
              "Parch       0\n",
              "Fare        0\n",
              "dtype: int64"
            ]
          },
          "metadata": {},
          "execution_count": 134
        }
      ]
    },
    {
      "cell_type": "code",
      "source": [
        "# label data\n",
        "Y = total_df['Survived']\n",
        "\n",
        "# Features data\n",
        "X = total_df.drop('Survived',axis=1)\n",
        "print(X.shape)"
      ],
      "metadata": {
        "colab": {
          "base_uri": "https://localhost:8080/"
        },
        "id": "Ei2xLp-3dy6K",
        "outputId": "97212885-24a2-446a-d20f-bd927ed218aa"
      },
      "execution_count": 135,
      "outputs": [
        {
          "output_type": "stream",
          "name": "stdout",
          "text": [
            "(202, 8)\n"
          ]
        }
      ]
    },
    {
      "cell_type": "code",
      "source": [
        "# Seperating features into numerical and categorical\n",
        "categorical_X = X.loc[:,df.dtypes==object]\n",
        "num_X = X.loc[:,df.dtypes!=object]\n",
        "\n",
        "from sklearn.preprocessing import MinMaxScaler\n",
        "from sklearn.preprocessing import OneHotEncoder\n",
        "# minmax scalar for numerical features\n",
        "# scaler = MinMaxScaler()\n",
        "# scaler.fit(num_X)\n",
        "# print(scaler.data_max_)\n",
        "\n",
        "# using StandardScalar\n",
        "from sklearn.preprocessing import StandardScaler\n",
        "\n",
        "scaler = StandardScaler()\n",
        "scaler.fit(num_X)\n",
        "print(scaler.mean_)\n",
        "\n",
        "numerical_features = scaler.transform(num_X)\n",
        "\n",
        "# One hot encoding for categorical features\n",
        "categorical_features = categorical_X.astype(str)\n",
        "\n",
        "# Create instance of OneHotEncoder\n",
        "ENCODER = OneHotEncoder()\n",
        "ENCODER.fit(categorical_features)\n",
        "#print(ENCODER.categories_)\n",
        "encoded_categorical_features = ENCODER.transform(categorical_features).toarray()\n",
        "\n",
        "# Concatenate both numerical features and encoded categorical features\n",
        "features_data = np.concatenate([numerical_features,encoded_categorical_features],axis=1)\n",
        "\n"
      ],
      "metadata": {
        "colab": {
          "base_uri": "https://localhost:8080/"
        },
        "id": "200hR0ofewqh",
        "outputId": "3d49bf7d-8df2-4f29-811e-4c080885ad1a"
      },
      "execution_count": 136,
      "outputs": [
        {
          "output_type": "stream",
          "name": "stdout",
          "text": [
            "[ 1.1980198  35.03465347  0.44554455  0.44059406 76.10330099]\n"
          ]
        }
      ]
    },
    {
      "cell_type": "code",
      "source": [
        "# One hot encoding for Label\n",
        "label_array = np.array(Y).reshape(-1,1)\n",
        "print(label_array)\n",
        "# ENCODER = OneHotEncoder()\n",
        "ENCODER.fit(label_array)\n",
        "print(ENCODER.categories_)\n",
        "encoded_Y = ENCODER.transform(label_array).toarray()\n",
        "# encoded_Y"
      ],
      "metadata": {
        "colab": {
          "base_uri": "https://localhost:8080/"
        },
        "id": "Lwbilor_fRj9",
        "outputId": "c8fce43b-63af-4900-e6f4-4a457c42aa35"
      },
      "execution_count": 137,
      "outputs": [
        {
          "output_type": "stream",
          "name": "stdout",
          "text": [
            "[[1.]\n",
            " [1.]\n",
            " [0.]\n",
            " [1.]\n",
            " [1.]\n",
            " [1.]\n",
            " [1.]\n",
            " [0.]\n",
            " [1.]\n",
            " [1.]\n",
            " [0.]\n",
            " [1.]\n",
            " [0.]\n",
            " [1.]\n",
            " [0.]\n",
            " [1.]\n",
            " [0.]\n",
            " [0.]\n",
            " [1.]\n",
            " [0.]\n",
            " [0.]\n",
            " [0.]\n",
            " [1.]\n",
            " [0.]\n",
            " [1.]\n",
            " [1.]\n",
            " [0.]\n",
            " [0.]\n",
            " [0.]\n",
            " [1.]\n",
            " [1.]\n",
            " [0.]\n",
            " [0.]\n",
            " [0.]\n",
            " [1.]\n",
            " [0.]\n",
            " [1.]\n",
            " [1.]\n",
            " [1.]\n",
            " [0.]\n",
            " [1.]\n",
            " [1.]\n",
            " [1.]\n",
            " [1.]\n",
            " [1.]\n",
            " [0.]\n",
            " [1.]\n",
            " [0.]\n",
            " [0.]\n",
            " [1.]\n",
            " [0.]\n",
            " [0.]\n",
            " [1.]\n",
            " [1.]\n",
            " [0.]\n",
            " [1.]\n",
            " [0.]\n",
            " [1.]\n",
            " [0.]\n",
            " [0.]\n",
            " [1.]\n",
            " [1.]\n",
            " [1.]\n",
            " [1.]\n",
            " [1.]\n",
            " [1.]\n",
            " [1.]\n",
            " [1.]\n",
            " [1.]\n",
            " [1.]\n",
            " [1.]\n",
            " [1.]\n",
            " [1.]\n",
            " [0.]\n",
            " [0.]\n",
            " [0.]\n",
            " [1.]\n",
            " [0.]\n",
            " [1.]\n",
            " [1.]\n",
            " [1.]\n",
            " [0.]\n",
            " [1.]\n",
            " [1.]\n",
            " [1.]\n",
            " [1.]\n",
            " [0.]\n",
            " [1.]\n",
            " [1.]\n",
            " [1.]\n",
            " [1.]\n",
            " [1.]\n",
            " [1.]\n",
            " [0.]\n",
            " [1.]\n",
            " [0.]\n",
            " [1.]\n",
            " [1.]\n",
            " [0.]\n",
            " [1.]\n",
            " [0.]\n",
            " [1.]\n",
            " [1.]\n",
            " [0.]\n",
            " [1.]\n",
            " [0.]\n",
            " [1.]\n",
            " [1.]\n",
            " [0.]\n",
            " [0.]\n",
            " [1.]\n",
            " [0.]\n",
            " [1.]\n",
            " [0.]\n",
            " [1.]\n",
            " [0.]\n",
            " [1.]\n",
            " [1.]\n",
            " [1.]\n",
            " [0.]\n",
            " [0.]\n",
            " [1.]\n",
            " [1.]\n",
            " [0.]\n",
            " [1.]\n",
            " [1.]\n",
            " [1.]\n",
            " [1.]\n",
            " [1.]\n",
            " [1.]\n",
            " [1.]\n",
            " [0.]\n",
            " [1.]\n",
            " [1.]\n",
            " [1.]\n",
            " [1.]\n",
            " [1.]\n",
            " [1.]\n",
            " [1.]\n",
            " [0.]\n",
            " [1.]\n",
            " [1.]\n",
            " [1.]\n",
            " [1.]\n",
            " [1.]\n",
            " [1.]\n",
            " [0.]\n",
            " [0.]\n",
            " [1.]\n",
            " [0.]\n",
            " [1.]\n",
            " [1.]\n",
            " [1.]\n",
            " [1.]\n",
            " [0.]\n",
            " [0.]\n",
            " [1.]\n",
            " [1.]\n",
            " [1.]\n",
            " [1.]\n",
            " [0.]\n",
            " [1.]\n",
            " [0.]\n",
            " [1.]\n",
            " [1.]\n",
            " [1.]\n",
            " [1.]\n",
            " [1.]\n",
            " [1.]\n",
            " [0.]\n",
            " [1.]\n",
            " [0.]\n",
            " [0.]\n",
            " [1.]\n",
            " [1.]\n",
            " [1.]\n",
            " [1.]\n",
            " [0.]\n",
            " [0.]\n",
            " [1.]\n",
            " [1.]\n",
            " [0.]\n",
            " [0.]\n",
            " [1.]\n",
            " [1.]\n",
            " [0.]\n",
            " [1.]\n",
            " [0.]\n",
            " [1.]\n",
            " [1.]\n",
            " [1.]\n",
            " [1.]\n",
            " [1.]\n",
            " [1.]\n",
            " [1.]\n",
            " [1.]\n",
            " [0.]\n",
            " [1.]\n",
            " [0.]\n",
            " [1.]\n",
            " [1.]\n",
            " [1.]]\n",
            "[array([0., 1.])]\n"
          ]
        }
      ]
    },
    {
      "cell_type": "code",
      "source": [
        "from sklearn.model_selection import train_test_split\n",
        "# Split the data into training and testing\n",
        "X_train, X_test, y_train, y_test = train_test_split(features_data,encoded_Y,test_size=.2)"
      ],
      "metadata": {
        "id": "K_mZ4WdwfrwT"
      },
      "execution_count": 138,
      "outputs": []
    },
    {
      "cell_type": "code",
      "source": [
        "# KNN\n",
        "from sklearn.neighbors import KNeighborsClassifier\n",
        "\n",
        "knn = KNeighborsClassifier()\n",
        "\n",
        "# Model TRAINING; pass features and labels\n",
        "knn.fit(X_train,y_train)\n",
        "\n",
        "# Model PREDICTION. Pass Testing features only.\n",
        "pred_labels_knn = knn.predict(X_test)\n",
        "\n",
        "print(pred_labels_knn[1])\n",
        "print(y_test[1])\n",
        "\n",
        "# Convert arrays to lists for comparison\n",
        "y_pred_list = pred_labels_knn.tolist()\n",
        "y_test_list = y_test.tolist()\n",
        "\n",
        "# Accuracy of the model\n",
        "accuracy_knn = 0\n",
        "for x in range(len(pred_labels_knn)):\n",
        "  if y_pred_list[x] == y_test_list[x]:\n",
        "    accuracy_knn += 1\n",
        "accuracy_knn = round(accuracy_knn/len(pred_labels_knn)*100,2)\n",
        "print(f\"The accuracy of the KNN Model is {accuracy_knn}%\")"
      ],
      "metadata": {
        "colab": {
          "base_uri": "https://localhost:8080/"
        },
        "id": "9WrErhJOgT7M",
        "outputId": "d6dcb17e-e4c9-43d5-d3b5-6ede54f1ac6b"
      },
      "execution_count": 139,
      "outputs": [
        {
          "output_type": "stream",
          "name": "stdout",
          "text": [
            "[0. 1.]\n",
            "[1. 0.]\n",
            "The accuracy of the KNN Model is 65.85%\n"
          ]
        }
      ]
    },
    {
      "cell_type": "code",
      "source": [
        "# Decision Tree\n",
        "from sklearn.tree import DecisionTreeClassifier\n",
        "\n",
        "dec_tree = DecisionTreeClassifier()\n",
        "dec_tree.fit(X_train,y_train)\n",
        "\n",
        "pred_labels_dec_tree = dec_tree.predict(X_test)\n",
        "\n",
        "# Convert arrays to lists for comparison\n",
        "y_pred_list = pred_labels_dec_tree.tolist()\n",
        "y_test_list = y_test.tolist()\n",
        "\n",
        "# Accuracy of the model\n",
        "accuracy_decision_tree = 0\n",
        "for x in range(len(pred_labels_dec_tree)):\n",
        "  if y_pred_list[x] == y_test_list[x]:\n",
        "    accuracy_decision_tree += 1\n",
        "accuracy_decision_tree = round(accuracy_decision_tree/len(pred_labels_dec_tree)*100,2)\n",
        "print(f\"The accuracy of the Decision Tree Model is {accuracy_decision_tree}%\")"
      ],
      "metadata": {
        "colab": {
          "base_uri": "https://localhost:8080/"
        },
        "id": "6l2ifbDhgYkt",
        "outputId": "a18a480d-449a-4077-8631-fd3ea234167e"
      },
      "execution_count": 140,
      "outputs": [
        {
          "output_type": "stream",
          "name": "stdout",
          "text": [
            "The accuracy of the Decision Tree Model is 85.37%\n"
          ]
        }
      ]
    },
    {
      "cell_type": "code",
      "source": [
        "# Random Forest\n",
        "from sklearn.ensemble import RandomForestClassifier\n",
        "\n",
        "random = RandomForestClassifier()\n",
        "random.fit(X_train,y_train)\n",
        "\n",
        "pred_lbls_rf = random.predict(X_test)\n",
        "pred_lbls_rf.shape\n",
        "\n",
        "# Convert arrays to lists for comparison\n",
        "y_pred_list = pred_lbls_rf.tolist()\n",
        "y_test_list = y_test.tolist()\n",
        "\n",
        "# Accuracy of the model\n",
        "accuracy_random_forest = 0\n",
        "for x in range(len(y_pred_list)):\n",
        "  if y_pred_list[x] == y_test_list[x]:\n",
        "    accuracy_random_forest += 1\n",
        "accuracy_random_forest = round(accuracy_random_forest/len(y_pred_list)*100,2)\n",
        "print(f\"The accuracy of the Random Forest Model is {accuracy_random_forest}%\")"
      ],
      "metadata": {
        "colab": {
          "base_uri": "https://localhost:8080/"
        },
        "id": "HIDJquaIgZpX",
        "outputId": "673e6017-f68a-4b41-86fd-066d4be326aa"
      },
      "execution_count": 141,
      "outputs": [
        {
          "output_type": "stream",
          "name": "stdout",
          "text": [
            "The accuracy of the Random Forest Model is 80.49%\n"
          ]
        }
      ]
    }
  ]
}
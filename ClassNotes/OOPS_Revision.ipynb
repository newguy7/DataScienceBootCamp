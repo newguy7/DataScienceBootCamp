{
  "nbformat": 4,
  "nbformat_minor": 0,
  "metadata": {
    "colab": {
      "provenance": [],
      "authorship_tag": "ABX9TyP+edEjsdCxLx4onquMKj1b",
      "include_colab_link": true
    },
    "kernelspec": {
      "name": "python3",
      "display_name": "Python 3"
    },
    "language_info": {
      "name": "python"
    }
  },
  "cells": [
    {
      "cell_type": "markdown",
      "metadata": {
        "id": "view-in-github",
        "colab_type": "text"
      },
      "source": [
        "<a href=\"https://colab.research.google.com/github/newguy7/DataScienceBootCamp/blob/main/ClassNotes/OOPS_Revision.ipynb\" target=\"_parent\"><img src=\"https://colab.research.google.com/assets/colab-badge.svg\" alt=\"Open In Colab\"/></a>"
      ]
    },
    {
      "cell_type": "code",
      "execution_count": null,
      "metadata": {
        "colab": {
          "base_uri": "https://localhost:8080/"
        },
        "id": "-PB4O8pSibq5",
        "outputId": "181e5436-db68-499e-f639-dc0ec5b35dd0"
      },
      "outputs": [
        {
          "output_type": "stream",
          "name": "stdout",
          "text": [
            "Name is: A\n"
          ]
        }
      ],
      "source": [
        "class Person:\n",
        "\n",
        "  def __init__(self, name, age):\n",
        "    self.name = name\n",
        "    self.age = age\n",
        "\n",
        "  def display(self):\n",
        "    print(f\"Name is: {self.name}\")\n",
        "\n",
        "person = Person(\"A\", 10)\n",
        "person.display()"
      ]
    },
    {
      "cell_type": "code",
      "source": [
        "# if child class dont have any parameter, dont need to call Super().__init__\n",
        "# class Employee(Person):\n",
        "#   def Print(self):\n",
        "#     print(\"Person Class called\")\n",
        "\n",
        "# emp = Employee(\"B\", 20)\n",
        "# emp.display()\n",
        "# emp.Print()"
      ],
      "metadata": {
        "id": "78xedIJgkCV5"
      },
      "execution_count": null,
      "outputs": []
    },
    {
      "cell_type": "code",
      "source": [
        "# If we want to add seperate parameter to the child class, then need to call super() to initialize parent class constructor.\n",
        "class Employee(Person):\n",
        "  def __init__(self, name, age, job):\n",
        "    self.job = job\n",
        "    super().__init__(name,age)\n",
        "\n",
        "  def Print(self):\n",
        "    print(f\"Employee has {self.job} job.\")\n",
        "\n",
        "emp = Employee(\"B\", 20, \"Data Scientist\")\n",
        "emp.display()\n",
        "emp.Print()"
      ],
      "metadata": {
        "colab": {
          "base_uri": "https://localhost:8080/"
        },
        "id": "zpRE8e0Nl4x-",
        "outputId": "64200734-96e4-433c-968d-32f80ba6f3e3"
      },
      "execution_count": null,
      "outputs": [
        {
          "output_type": "stream",
          "name": "stdout",
          "text": [
            "Name is: B\n",
            "Employee has Data Scientist job.\n"
          ]
        }
      ]
    }
  ]
}
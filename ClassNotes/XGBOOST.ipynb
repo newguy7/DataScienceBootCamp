{
  "nbformat": 4,
  "nbformat_minor": 0,
  "metadata": {
    "colab": {
      "provenance": [],
      "authorship_tag": "ABX9TyNqCCRqxAymEv0FU01abff8",
      "include_colab_link": true
    },
    "kernelspec": {
      "name": "python3",
      "display_name": "Python 3"
    },
    "language_info": {
      "name": "python"
    }
  },
  "cells": [
    {
      "cell_type": "markdown",
      "metadata": {
        "id": "view-in-github",
        "colab_type": "text"
      },
      "source": [
        "<a href=\"https://colab.research.google.com/github/newguy7/DataScienceBootCamp/blob/main/ClassNotes/XGBOOST.ipynb\" target=\"_parent\"><img src=\"https://colab.research.google.com/assets/colab-badge.svg\" alt=\"Open In Colab\"/></a>"
      ]
    },
    {
      "cell_type": "code",
      "execution_count": null,
      "metadata": {
        "colab": {
          "base_uri": "https://localhost:8080/"
        },
        "id": "_lHKO4bl2x8E",
        "outputId": "4e91eaf7-5be7-4f6b-d068-6b9031098144"
      },
      "outputs": [
        {
          "output_type": "stream",
          "name": "stdout",
          "text": [
            "{'data': array([[ 0.03807591,  0.05068012,  0.06169621, ..., -0.00259226,\n",
            "         0.01990749, -0.01764613],\n",
            "       [-0.00188202, -0.04464164, -0.05147406, ..., -0.03949338,\n",
            "        -0.06833155, -0.09220405],\n",
            "       [ 0.08529891,  0.05068012,  0.04445121, ..., -0.00259226,\n",
            "         0.00286131, -0.02593034],\n",
            "       ...,\n",
            "       [ 0.04170844,  0.05068012, -0.01590626, ..., -0.01107952,\n",
            "        -0.04688253,  0.01549073],\n",
            "       [-0.04547248, -0.04464164,  0.03906215, ...,  0.02655962,\n",
            "         0.04452873, -0.02593034],\n",
            "       [-0.04547248, -0.04464164, -0.0730303 , ..., -0.03949338,\n",
            "        -0.00422151,  0.00306441]]), 'target': array([151.,  75., 141., 206., 135.,  97., 138.,  63., 110., 310., 101.,\n",
            "        69., 179., 185., 118., 171., 166., 144.,  97., 168.,  68.,  49.,\n",
            "        68., 245., 184., 202., 137.,  85., 131., 283., 129.,  59., 341.,\n",
            "        87.,  65., 102., 265., 276., 252.,  90., 100.,  55.,  61.,  92.,\n",
            "       259.,  53., 190., 142.,  75., 142., 155., 225.,  59., 104., 182.,\n",
            "       128.,  52.,  37., 170., 170.,  61., 144.,  52., 128.,  71., 163.,\n",
            "       150.,  97., 160., 178.,  48., 270., 202., 111.,  85.,  42., 170.,\n",
            "       200., 252., 113., 143.,  51.,  52., 210.,  65., 141.,  55., 134.,\n",
            "        42., 111.,  98., 164.,  48.,  96.,  90., 162., 150., 279.,  92.,\n",
            "        83., 128., 102., 302., 198.,  95.,  53., 134., 144., 232.,  81.,\n",
            "       104.,  59., 246., 297., 258., 229., 275., 281., 179., 200., 200.,\n",
            "       173., 180.,  84., 121., 161.,  99., 109., 115., 268., 274., 158.,\n",
            "       107.,  83., 103., 272.,  85., 280., 336., 281., 118., 317., 235.,\n",
            "        60., 174., 259., 178., 128.,  96., 126., 288.,  88., 292.,  71.,\n",
            "       197., 186.,  25.,  84.,  96., 195.,  53., 217., 172., 131., 214.,\n",
            "        59.,  70., 220., 268., 152.,  47.,  74., 295., 101., 151., 127.,\n",
            "       237., 225.,  81., 151., 107.,  64., 138., 185., 265., 101., 137.,\n",
            "       143., 141.,  79., 292., 178.,  91., 116.,  86., 122.,  72., 129.,\n",
            "       142.,  90., 158.,  39., 196., 222., 277.,  99., 196., 202., 155.,\n",
            "        77., 191.,  70.,  73.,  49.,  65., 263., 248., 296., 214., 185.,\n",
            "        78.,  93., 252., 150.,  77., 208.,  77., 108., 160.,  53., 220.,\n",
            "       154., 259.,  90., 246., 124.,  67.,  72., 257., 262., 275., 177.,\n",
            "        71.,  47., 187., 125.,  78.,  51., 258., 215., 303., 243.,  91.,\n",
            "       150., 310., 153., 346.,  63.,  89.,  50.,  39., 103., 308., 116.,\n",
            "       145.,  74.,  45., 115., 264.,  87., 202., 127., 182., 241.,  66.,\n",
            "        94., 283.,  64., 102., 200., 265.,  94., 230., 181., 156., 233.,\n",
            "        60., 219.,  80.,  68., 332., 248.,  84., 200.,  55.,  85.,  89.,\n",
            "        31., 129.,  83., 275.,  65., 198., 236., 253., 124.,  44., 172.,\n",
            "       114., 142., 109., 180., 144., 163., 147.,  97., 220., 190., 109.,\n",
            "       191., 122., 230., 242., 248., 249., 192., 131., 237.,  78., 135.,\n",
            "       244., 199., 270., 164.,  72.,  96., 306.,  91., 214.,  95., 216.,\n",
            "       263., 178., 113., 200., 139., 139.,  88., 148.,  88., 243.,  71.,\n",
            "        77., 109., 272.,  60.,  54., 221.,  90., 311., 281., 182., 321.,\n",
            "        58., 262., 206., 233., 242., 123., 167.,  63., 197.,  71., 168.,\n",
            "       140., 217., 121., 235., 245.,  40.,  52., 104., 132.,  88.,  69.,\n",
            "       219.,  72., 201., 110.,  51., 277.,  63., 118.,  69., 273., 258.,\n",
            "        43., 198., 242., 232., 175.,  93., 168., 275., 293., 281.,  72.,\n",
            "       140., 189., 181., 209., 136., 261., 113., 131., 174., 257.,  55.,\n",
            "        84.,  42., 146., 212., 233.,  91., 111., 152., 120.,  67., 310.,\n",
            "        94., 183.,  66., 173.,  72.,  49.,  64.,  48., 178., 104., 132.,\n",
            "       220.,  57.]), 'frame': None, 'DESCR': '.. _diabetes_dataset:\\n\\nDiabetes dataset\\n----------------\\n\\nTen baseline variables, age, sex, body mass index, average blood\\npressure, and six blood serum measurements were obtained for each of n =\\n442 diabetes patients, as well as the response of interest, a\\nquantitative measure of disease progression one year after baseline.\\n\\n**Data Set Characteristics:**\\n\\n  :Number of Instances: 442\\n\\n  :Number of Attributes: First 10 columns are numeric predictive values\\n\\n  :Target: Column 11 is a quantitative measure of disease progression one year after baseline\\n\\n  :Attribute Information:\\n      - age     age in years\\n      - sex\\n      - bmi     body mass index\\n      - bp      average blood pressure\\n      - s1      tc, total serum cholesterol\\n      - s2      ldl, low-density lipoproteins\\n      - s3      hdl, high-density lipoproteins\\n      - s4      tch, total cholesterol / HDL\\n      - s5      ltg, possibly log of serum triglycerides level\\n      - s6      glu, blood sugar level\\n\\nNote: Each of these 10 feature variables have been mean centered and scaled by the standard deviation times the square root of `n_samples` (i.e. the sum of squares of each column totals 1).\\n\\nSource URL:\\nhttps://www4.stat.ncsu.edu/~boos/var.select/diabetes.html\\n\\nFor more information see:\\nBradley Efron, Trevor Hastie, Iain Johnstone and Robert Tibshirani (2004) \"Least Angle Regression,\" Annals of Statistics (with discussion), 407-499.\\n(https://web.stanford.edu/~hastie/Papers/LARS/LeastAngle_2002.pdf)\\n', 'feature_names': ['age', 'sex', 'bmi', 'bp', 's1', 's2', 's3', 's4', 's5', 's6'], 'data_filename': 'diabetes_data_raw.csv.gz', 'target_filename': 'diabetes_target.csv.gz', 'data_module': 'sklearn.datasets.data'}\n"
          ]
        }
      ],
      "source": [
        "from sklearn.datasets import load_diabetes\n",
        "\n",
        "data = load_diabetes()\n",
        "\n",
        "print(data)"
      ]
    },
    {
      "cell_type": "code",
      "source": [
        "X = data['data']\n",
        "Y = data['target']\n",
        "print(X.shape)\n",
        "print(Y.shape)"
      ],
      "metadata": {
        "colab": {
          "base_uri": "https://localhost:8080/"
        },
        "id": "OIsBv6L13RKx",
        "outputId": "ffea2569-5bc1-43f6-f5a4-3f3b2701e98a"
      },
      "execution_count": null,
      "outputs": [
        {
          "output_type": "stream",
          "name": "stdout",
          "text": [
            "(442, 10)\n",
            "(442,)\n"
          ]
        }
      ]
    },
    {
      "cell_type": "code",
      "source": [
        "from sklearn.model_selection import train_test_split\n",
        "\n",
        "X_train, X_test, Y_train, Y_test = train_test_split(X,Y,test_size=.2)"
      ],
      "metadata": {
        "id": "ZEBR2hbL3hhG"
      },
      "execution_count": null,
      "outputs": []
    },
    {
      "cell_type": "code",
      "source": [
        "#XGBOOST\n",
        "# approach for building supervised regression models\n",
        "# tells about the difference between actual values and predicted values,\n",
        "# i.e how far the model results are from the real values.\n",
        "\n",
        "# common loss functions in XGBoost for regression problems is reg:linear,\n",
        "# and for binary classification is reg:logistics\n",
        "import numpy as np\n",
        "\n",
        "from xgboost import XGBRegressor\n",
        "\n",
        "\n",
        "# Instantiation\n",
        "model = XGBRegressor()\n",
        "\n",
        "# Fitting the model\n",
        "model.fit(X_train, Y_train)\n",
        "\n",
        "# Predict the model\n",
        "pred_lbls = model.predict(X_test)\n",
        "print(pred_lbls)\n",
        "\n",
        "# # root-mean-squared error\n",
        "# rmse = np.sqrt(MSE(Y_test, pred_lbls))\n",
        "# print(f\"RMSE :{round(rmse,2)}\")"
      ],
      "metadata": {
        "colab": {
          "base_uri": "https://localhost:8080/"
        },
        "id": "FvzF9lXN4zMA",
        "outputId": "538dacf4-136a-4fc7-b315-d89ec7c6fcb9"
      },
      "execution_count": null,
      "outputs": [
        {
          "output_type": "stream",
          "name": "stdout",
          "text": [
            "[182.7867   245.05481  181.20476  286.5685   193.41597  116.44953\n",
            " 201.57161  144.24341   97.03572  116.43908  136.51627  120.05265\n",
            " 110.66063  190.3899    80.00945  202.90402   86.61973  101.74807\n",
            " 261.8174   122.6036   142.96013  191.81645  182.83063  106.62626\n",
            " 288.43933  236.58435   71.00284   89.79531   83.720955 136.89973\n",
            " 230.12512  154.14323   68.00785   83.57332  160.06575  100.085014\n",
            "  94.19163  179.36745   59.8099   196.33945  144.84111  197.71284\n",
            " 148.09573   80.40248  205.45872  188.78137   86.76895  125.35999\n",
            "  78.01292  122.44962   95.42781  150.46701  131.61119  159.23099\n",
            " 144.87007  231.24251  138.43849  118.13775   77.1465   114.78995\n",
            " 106.250786 233.81085   68.07338  163.5815    67.59473  140.81737\n",
            " 132.10016  105.63978  110.09367  234.15744  188.06186   88.08614\n",
            "  59.456978  96.326     98.56777  303.2337   130.78235  196.91306\n",
            " 233.58932   73.432365 125.69462  138.76653   97.69631   84.83453\n",
            " 203.83601   70.09368  124.06637   61.248524 130.30943 ]\n"
          ]
        }
      ]
    },
    {
      "cell_type": "code",
      "source": [
        "from sklearn.metrics import mean_squared_error, r2_score, mean_absolute_error, explained_variance_score\n",
        "\n",
        "# r2_score\n",
        "print(f\"r2_score: {r2_score(Y_test,pred_lbls)}\")"
      ],
      "metadata": {
        "colab": {
          "base_uri": "https://localhost:8080/"
        },
        "id": "Jij9PJQ4CMYg",
        "outputId": "d4bf8896-bd12-45b9-8c06-b5c8920ca096"
      },
      "execution_count": null,
      "outputs": [
        {
          "output_type": "stream",
          "name": "stdout",
          "text": [
            "r2_score: 0.30835211731669654\n"
          ]
        }
      ]
    },
    {
      "cell_type": "code",
      "source": [
        "# mean squared error\n",
        "print(f\"mean squared error: {mean_squared_error(Y_test,pred_lbls)}\")"
      ],
      "metadata": {
        "colab": {
          "base_uri": "https://localhost:8080/"
        },
        "id": "xXf9PvIXDJTY",
        "outputId": "9b476a6c-9391-437c-8e87-e3c19f4fccd0"
      },
      "execution_count": null,
      "outputs": [
        {
          "output_type": "stream",
          "name": "stdout",
          "text": [
            "mean squared error: 3906.628597286911\n"
          ]
        }
      ]
    },
    {
      "cell_type": "code",
      "source": [
        "# root mean squared error\n",
        "print(f\"root mean squared error: {np.sqrt(mean_squared_error(Y_test,pred_lbls))}\")"
      ],
      "metadata": {
        "colab": {
          "base_uri": "https://localhost:8080/"
        },
        "id": "izK5lN-QE034",
        "outputId": "49fd8f88-e452-448d-af11-b701236d4dbd"
      },
      "execution_count": null,
      "outputs": [
        {
          "output_type": "stream",
          "name": "stdout",
          "text": [
            "root mean squared error: 62.50302870491086\n"
          ]
        }
      ]
    },
    {
      "cell_type": "code",
      "source": [
        "# mean absolute error\n",
        "print(f\"mean absolute error: {mean_absolute_error(Y_test,pred_lbls)}\")"
      ],
      "metadata": {
        "colab": {
          "base_uri": "https://localhost:8080/"
        },
        "id": "e-xECep_Dsq7",
        "outputId": "2267b29b-0c3e-4d40-cc47-2c621040cd84"
      },
      "execution_count": null,
      "outputs": [
        {
          "output_type": "stream",
          "name": "stdout",
          "text": [
            "mean absolute error: 49.82413829846328\n"
          ]
        }
      ]
    },
    {
      "cell_type": "code",
      "source": [
        "# explained variance score\n",
        "print(f\"explained variance score: {explained_variance_score(Y_test,pred_lbls)}\")"
      ],
      "metadata": {
        "colab": {
          "base_uri": "https://localhost:8080/"
        },
        "id": "9BdwtXqDEEGR",
        "outputId": "16a2b839-e38e-483c-8ee0-51e3ceb5f847"
      },
      "execution_count": null,
      "outputs": [
        {
          "output_type": "stream",
          "name": "stdout",
          "text": [
            "explained variance score: 0.34076166203923564\n"
          ]
        }
      ]
    },
    {
      "cell_type": "code",
      "source": [
        "# mean squared error(new)\n",
        "Y_new = [82,80,103,118,172,127,204,189,99,166]\n",
        "pred_f1 = [95.75,95.75,95.75,95.75,159.5,159.5,159.5,159.5,159.5,159.5]\n",
        "print(f\"mean squared error f0(x): {mean_squared_error(Y_new,pred_f1)}\")\n",
        "\n",
        "Y_new = [82,80,103,118,172,127,204,189,99,166]\n",
        "pred_f2 = [102.5,102.5,102.5,102.5,166.25,166.25,166.25,166.25,132.5,132.5]\n",
        "print(f\"mean squared error f1(x): {mean_squared_error(Y_new,pred_f2)}\")\n",
        "\n",
        "Y_new = [82,80,103,118,172,127,204,189,99,166]\n",
        "pred_f3 = [92.42,92.42,92.42,92.42,156.16,156.16,181.37,181.37,147.625,147.625]\n",
        "print(f\"mean squared error f2(x): {mean_squared_error(Y_new,pred_f3)}\")"
      ],
      "metadata": {
        "colab": {
          "base_uri": "https://localhost:8080/"
        },
        "id": "p-STZ35Wilx1",
        "outputId": "c5e8cc0a-7123-4ac5-b233-e735fc85042f"
      },
      "execution_count": null,
      "outputs": [
        {
          "output_type": "stream",
          "name": "stdout",
          "text": [
            "mean squared error f0(x): 875.025\n",
            "mean squared error f1(x): 692.775\n",
            "mean squared error f2(x): 540.2681849999999\n"
          ]
        }
      ]
    }
  ]
}
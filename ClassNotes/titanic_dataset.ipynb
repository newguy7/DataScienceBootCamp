{
  "nbformat": 4,
  "nbformat_minor": 0,
  "metadata": {
    "colab": {
      "provenance": [],
      "authorship_tag": "ABX9TyNl2niciZshm38aOTUk5SIu",
      "include_colab_link": true
    },
    "kernelspec": {
      "name": "python3",
      "display_name": "Python 3"
    },
    "language_info": {
      "name": "python"
    }
  },
  "cells": [
    {
      "cell_type": "markdown",
      "metadata": {
        "id": "view-in-github",
        "colab_type": "text"
      },
      "source": [
        "<a href=\"https://colab.research.google.com/github/newguy7/DataScienceBootCamp/blob/main/ClassNotes/titanic_dataset.ipynb\" target=\"_parent\"><img src=\"https://colab.research.google.com/assets/colab-badge.svg\" alt=\"Open In Colab\"/></a>"
      ]
    },
    {
      "cell_type": "code",
      "execution_count": null,
      "metadata": {
        "colab": {
          "base_uri": "https://localhost:8080/"
        },
        "id": "CsDYuBBnLim6",
        "outputId": "d3c77f9c-7b35-4b67-8f21-28c15033d548"
      },
      "outputs": [
        {
          "output_type": "stream",
          "name": "stdout",
          "text": [
            "   PassengerId  Survived  Pclass  \\\n",
            "0            1         0       3   \n",
            "1            2         1       1   \n",
            "2            3         1       3   \n",
            "3            4         1       1   \n",
            "4            5         0       3   \n",
            "\n",
            "                                                Name     Sex   Age  SibSp  \\\n",
            "0                            Braund, Mr. Owen Harris    male  22.0      1   \n",
            "1  Cumings, Mrs. John Bradley (Florence Briggs Th...  female  38.0      1   \n",
            "2                             Heikkinen, Miss. Laina  female  26.0      0   \n",
            "3       Futrelle, Mrs. Jacques Heath (Lily May Peel)  female  35.0      1   \n",
            "4                           Allen, Mr. William Henry    male  35.0      0   \n",
            "\n",
            "   Parch            Ticket     Fare Cabin Embarked  \n",
            "0      0         A/5 21171   7.2500   NaN        S  \n",
            "1      0          PC 17599  71.2833   C85        C  \n",
            "2      0  STON/O2. 3101282   7.9250   NaN        S  \n",
            "3      0            113803  53.1000  C123        S  \n",
            "4      0            373450   8.0500   NaN        S  \n"
          ]
        }
      ],
      "source": [
        "import pandas as pd\n",
        "\n",
        "# load the dataset\n",
        "df = pd.read_csv('titanic_Train.csv')\n",
        "print(df.head())"
      ]
    },
    {
      "cell_type": "code",
      "source": [
        "# Total males and female Passengers\n",
        "gender_count = df['Sex'].value_counts()\n",
        "gender_count"
      ],
      "metadata": {
        "colab": {
          "base_uri": "https://localhost:8080/"
        },
        "id": "WFVBtQ9YNK-q",
        "outputId": "9ef8a883-7f11-45bf-cdb6-f37fa6c08708"
      },
      "execution_count": null,
      "outputs": [
        {
          "output_type": "execute_result",
          "data": {
            "text/plain": [
              "male      577\n",
              "female    314\n",
              "Name: Sex, dtype: int64"
            ]
          },
          "metadata": {},
          "execution_count": 303
        }
      ]
    },
    {
      "cell_type": "code",
      "source": [
        "# Total Survived males and female Passengers\n",
        "survived_count = df.groupby('Sex')['Survived'].sum()\n",
        "survived_count"
      ],
      "metadata": {
        "colab": {
          "base_uri": "https://localhost:8080/"
        },
        "id": "666jCACrNOar",
        "outputId": "124024c4-5b00-4f47-e361-e77c47c2d29c"
      },
      "execution_count": null,
      "outputs": [
        {
          "output_type": "execute_result",
          "data": {
            "text/plain": [
              "Sex\n",
              "female    233\n",
              "male      109\n",
              "Name: Survived, dtype: int64"
            ]
          },
          "metadata": {},
          "execution_count": 301
        }
      ]
    },
    {
      "cell_type": "code",
      "source": [
        "# How many males and female were travelling\n",
        "# plot bar chart\n",
        "x_labels_list = ['Male', 'Female']\n",
        "y_values_list = [gender_count['male'],gender_count['female']]\n",
        "\n",
        "plt.bar(x_labels_list,y_values_list,color=['blue','green'])\n",
        "# show value of each bar\n",
        "for index, value in enumerate(y_values_list):\n",
        "    plt.text(index, value, str(value), ha='center', va='bottom')\n",
        "plt.xlabel('Sex')\n",
        "plt.ylabel('Number of passenger')\n",
        "plt.title('Total Male and Female Passengers')\n",
        "plt.show()"
      ],
      "metadata": {
        "colab": {
          "base_uri": "https://localhost:8080/",
          "height": 472
        },
        "id": "jpB7ppNsQbfi",
        "outputId": "ea1c90db-15a2-44e2-9b58-0f6cf5326cfe"
      },
      "execution_count": null,
      "outputs": [
        {
          "output_type": "display_data",
          "data": {
            "text/plain": [
              "<Figure size 640x480 with 1 Axes>"
            ],
            "image/png": "[encoded data removed]"
          },
          "metadata": {}
        }
      ]
    },
    {
      "cell_type": "code",
      "source": [
        "# How many male survived and how many  female survived\n",
        "import matplotlib.pyplot as plt\n",
        "\n",
        "# plot bar chart\n",
        "x_labels_list = ['Male', 'Female']\n",
        "y_values_list = [survived_count['male'],survived_count['female']]\n",
        "\n",
        "plt.bar(x_labels_list,y_values_list,color=['blue','green'])\n",
        "# show value of each bar\n",
        "for index, value in enumerate(y_values_list):\n",
        "    plt.text(index, value, str(value), ha='center', va='bottom')\n",
        "plt.xlabel('Sex')\n",
        "plt.ylabel('Number of passenger')\n",
        "plt.title('Total Survived Male and Female Passengers')\n",
        "plt.show()"
      ],
      "metadata": {
        "colab": {
          "base_uri": "https://localhost:8080/",
          "height": 472
        },
        "id": "nXKD6gsmOLem",
        "outputId": "2aaf17a9-0be8-4926-d042-38709b94ac0f"
      },
      "execution_count": null,
      "outputs": [
        {
          "output_type": "display_data",
          "data": {
            "text/plain": [
              "<Figure size 640x480 with 1 Axes>"
            ],
            "image/png": "[encoded data removed]"
          },
          "metadata": {}
        }
      ]
    },
    {
      "cell_type": "code",
      "source": [
        "# Max, Minumum and Average Price for Each Pclass\n",
        "fare_stats = df.groupby('Pclass')['Fare'].agg(['max', 'min', 'mean']).reset_index()\n",
        "fare_stats"
      ],
      "metadata": {
        "colab": {
          "base_uri": "https://localhost:8080/",
          "height": 143
        },
        "id": "fPPhnCZUQXIY",
        "outputId": "08324d97-140b-490b-84b6-c8dfb35ca49e"
      },
      "execution_count": null,
      "outputs": [
        {
          "output_type": "execute_result",
          "data": {
            "text/plain": [
              "   Pclass       max  min       mean\n",
              "0       1  512.3292  0.0  84.154687\n",
              "1       2   73.5000  0.0  20.662183\n",
              "2       3   69.5500  0.0  13.675550"
            ],
            "text/html": [
              "\n",
              "  <div id=\"df-edb0e45f-1fe3-40f3-a74f-1a6c6cafb13f\" class=\"colab-df-container\">\n",
              "    <div>\n",
              "<style scoped>\n",
              "    .dataframe tbody tr th:only-of-type {\n",
              "        vertical-align: middle;\n",
              "    }\n",
              "\n",
              "    .dataframe tbody tr th {\n",
              "        vertical-align: top;\n",
              "    }\n",
              "\n",
              "    .dataframe thead th {\n",
              "        text-align: right;\n",
              "    }\n",
              "</style>\n",
              "<table border=\"1\" class=\"dataframe\">\n",
              "  <thead>\n",
              "    <tr style=\"text-align: right;\">\n",
              "      <th></th>\n",
              "      <th>Pclass</th>\n",
              "      <th>max</th>\n",
              "      <th>min</th>\n",
              "      <th>mean</th>\n",
              "    </tr>\n",
              "  </thead>\n",
              "  <tbody>\n",
              "    <tr>\n",
              "      <th>0</th>\n",
              "      <td>1</td>\n",
              "      <td>512.3292</td>\n",
              "      <td>0.0</td>\n",
              "      <td>84.154687</td>\n",
              "    </tr>\n",
              "    <tr>\n",
              "      <th>1</th>\n",
              "      <td>2</td>\n",
              "      <td>73.5000</td>\n",
              "      <td>0.0</td>\n",
              "      <td>20.662183</td>\n",
              "    </tr>\n",
              "    <tr>\n",
              "      <th>2</th>\n",
              "      <td>3</td>\n",
              "      <td>69.5500</td>\n",
              "      <td>0.0</td>\n",
              "      <td>13.675550</td>\n",
              "    </tr>\n",
              "  </tbody>\n",
              "</table>\n",
              "</div>\n",
              "    <div class=\"colab-df-buttons\">\n",
              "\n",
              "  <div class=\"colab-df-container\">\n",
              "    <button class=\"colab-df-convert\" onclick=\"convertToInteractive('df-edb0e45f-1fe3-40f3-a74f-1a6c6cafb13f')\"\n",
              "            title=\"Convert this dataframe to an interactive table.\"\n",
              "            style=\"display:none;\">\n",
              "\n",
              "  <svg xmlns=\"http://www.w3.org/2000/svg\" height=\"24px\" viewBox=\"0 -960 960 960\">\n",
              "    <path d=\"M120-120v-720h720v720H120Zm60-500h600v-160H180v160Zm220 220h160v-160H400v160Zm0 220h160v-160H400v160ZM180-400h160v-160H180v160Zm440 0h160v-160H620v160ZM180-180h160v-160H180v160Zm440 0h160v-160H620v160Z\"/>\n",
              "  </svg>\n",
              "    </button>\n",
              "\n",
              "  <style>\n",
              "    .colab-df-container {\n",
              "      display:flex;\n",
              "      gap: 12px;\n",
              "    }\n",
              "\n",
              "    .colab-df-convert {\n",
              "      background-color: #E8F0FE;\n",
              "      border: none;\n",
              "      border-radius: 50%;\n",
              "      cursor: pointer;\n",
              "      display: none;\n",
              "      fill: #1967D2;\n",
              "      height: 32px;\n",
              "      padding: 0 0 0 0;\n",
              "      width: 32px;\n",
              "    }\n",
              "\n",
              "    .colab-df-convert:hover {\n",
              "      background-color: #E2EBFA;\n",
              "      box-shadow: 0px 1px 2px rgba(60, 64, 67, 0.3), 0px 1px 3px 1px rgba(60, 64, 67, 0.15);\n",
              "      fill: #174EA6;\n",
              "    }\n",
              "\n",
              "    .colab-df-buttons div {\n",
              "      margin-bottom: 4px;\n",
              "    }\n",
              "\n",
              "    [theme=dark] .colab-df-convert {\n",
              "      background-color: #3B4455;\n",
              "      fill: #D2E3FC;\n",
              "    }\n",
              "\n",
              "    [theme=dark] .colab-df-convert:hover {\n",
              "      background-color: #434B5C;\n",
              "      box-shadow: 0px 1px 3px 1px rgba(0, 0, 0, 0.15);\n",
              "      filter: drop-shadow(0px 1px 2px rgba(0, 0, 0, 0.3));\n",
              "      fill: #FFFFFF;\n",
              "    }\n",
              "  </style>\n",
              "\n",
              "    <script>\n",
              "      const buttonEl =\n",
              "        document.querySelector('#df-edb0e45f-1fe3-40f3-a74f-1a6c6cafb13f button.colab-df-convert');\n",
              "      buttonEl.style.display =\n",
              "        google.colab.kernel.accessAllowed ? 'block' : 'none';\n",
              "\n",
              "      async function convertToInteractive(key) {\n",
              "        const element = document.querySelector('#df-edb0e45f-1fe3-40f3-a74f-1a6c6cafb13f');\n",
              "        const dataTable =\n",
              "          await google.colab.kernel.invokeFunction('convertToInteractive',\n",
              "                                                    [key], {});\n",
              "        if (!dataTable) return;\n",
              "\n",
              "        const docLinkHtml = 'Like what you see? Visit the ' +\n",
              "          '<a target=\"_blank\" href=https://colab.research.google.com/notebooks/data_table.ipynb>data table notebook</a>'\n",
              "          + ' to learn more about interactive tables.';\n",
              "        element.innerHTML = '';\n",
              "        dataTable['output_type'] = 'display_data';\n",
              "        await google.colab.output.renderOutput(dataTable, element);\n",
              "        const docLink = document.createElement('div');\n",
              "        docLink.innerHTML = docLinkHtml;\n",
              "        element.appendChild(docLink);\n",
              "      }\n",
              "    </script>\n",
              "  </div>\n",
              "\n",
              "\n",
              "<div id=\"df-6a0495a4-98a8-4c16-9a2c-d3e954b12ce2\">\n",
              "  <button class=\"colab-df-quickchart\" onclick=\"quickchart('df-6a0495a4-98a8-4c16-9a2c-d3e954b12ce2')\"\n",
              "            title=\"Suggest charts\"\n",
              "            style=\"display:none;\">\n",
              "\n",
              "<svg xmlns=\"http://www.w3.org/2000/svg\" height=\"24px\"viewBox=\"0 0 24 24\"\n",
              "     width=\"24px\">\n",
              "    <g>\n",
              "        <path d=\"M19 3H5c-1.1 0-2 .9-2 2v14c0 1.1.9 2 2 2h14c1.1 0 2-.9 2-2V5c0-1.1-.9-2-2-2zM9 17H7v-7h2v7zm4 0h-2V7h2v10zm4 0h-2v-4h2v4z\"/>\n",
              "    </g>\n",
              "</svg>\n",
              "  </button>\n",
              "\n",
              "<style>\n",
              "  .colab-df-quickchart {\n",
              "      --bg-color: #E8F0FE;\n",
              "      --fill-color: #1967D2;\n",
              "      --hover-bg-color: #E2EBFA;\n",
              "      --hover-fill-color: #174EA6;\n",
              "      --disabled-fill-color: #AAA;\n",
              "      --disabled-bg-color: #DDD;\n",
              "  }\n",
              "\n",
              "  [theme=dark] .colab-df-quickchart {\n",
              "      --bg-color: #3B4455;\n",
              "      --fill-color: #D2E3FC;\n",
              "      --hover-bg-color: #434B5C;\n",
              "      --hover-fill-color: #FFFFFF;\n",
              "      --disabled-bg-color: #3B4455;\n",
              "      --disabled-fill-color: #666;\n",
              "  }\n",
              "\n",
              "  .colab-df-quickchart {\n",
              "    background-color: var(--bg-color);\n",
              "    border: none;\n",
              "    border-radius: 50%;\n",
              "    cursor: pointer;\n",
              "    display: none;\n",
              "    fill: var(--fill-color);\n",
              "    height: 32px;\n",
              "    padding: 0;\n",
              "    width: 32px;\n",
              "  }\n",
              "\n",
              "  .colab-df-quickchart:hover {\n",
              "    background-color: var(--hover-bg-color);\n",
              "    box-shadow: 0 1px 2px rgba(60, 64, 67, 0.3), 0 1px 3px 1px rgba(60, 64, 67, 0.15);\n",
              "    fill: var(--button-hover-fill-color);\n",
              "  }\n",
              "\n",
              "  .colab-df-quickchart-complete:disabled,\n",
              "  .colab-df-quickchart-complete:disabled:hover {\n",
              "    background-color: var(--disabled-bg-color);\n",
              "    fill: var(--disabled-fill-color);\n",
              "    box-shadow: none;\n",
              "  }\n",
              "\n",
              "  .colab-df-spinner {\n",
              "    border: 2px solid var(--fill-color);\n",
              "    border-color: transparent;\n",
              "    border-bottom-color: var(--fill-color);\n",
              "    animation:\n",
              "      spin 1s steps(1) infinite;\n",
              "  }\n",
              "\n",
              "  @keyframes spin {\n",
              "    0% {\n",
              "      border-color: transparent;\n",
              "      border-bottom-color: var(--fill-color);\n",
              "      border-left-color: var(--fill-color);\n",
              "    }\n",
              "    20% {\n",
              "      border-color: transparent;\n",
              "      border-left-color: var(--fill-color);\n",
              "      border-top-color: var(--fill-color);\n",
              "    }\n",
              "    30% {\n",
              "      border-color: transparent;\n",
              "      border-left-color: var(--fill-color);\n",
              "      border-top-color: var(--fill-color);\n",
              "      border-right-color: var(--fill-color);\n",
              "    }\n",
              "    40% {\n",
              "      border-color: transparent;\n",
              "      border-right-color: var(--fill-color);\n",
              "      border-top-color: var(--fill-color);\n",
              "    }\n",
              "    60% {\n",
              "      border-color: transparent;\n",
              "      border-right-color: var(--fill-color);\n",
              "    }\n",
              "    80% {\n",
              "      border-color: transparent;\n",
              "      border-right-color: var(--fill-color);\n",
              "      border-bottom-color: var(--fill-color);\n",
              "    }\n",
              "    90% {\n",
              "      border-color: transparent;\n",
              "      border-bottom-color: var(--fill-color);\n",
              "    }\n",
              "  }\n",
              "</style>\n",
              "\n",
              "  <script>\n",
              "    async function quickchart(key) {\n",
              "      const quickchartButtonEl =\n",
              "        document.querySelector('#' + key + ' button');\n",
              "      quickchartButtonEl.disabled = true;  // To prevent multiple clicks.\n",
              "      quickchartButtonEl.classList.add('colab-df-spinner');\n",
              "      try {\n",
              "        const charts = await google.colab.kernel.invokeFunction(\n",
              "            'suggestCharts', [key], {});\n",
              "      } catch (error) {\n",
              "        console.error('Error during call to suggestCharts:', error);\n",
              "      }\n",
              "      quickchartButtonEl.classList.remove('colab-df-spinner');\n",
              "      quickchartButtonEl.classList.add('colab-df-quickchart-complete');\n",
              "    }\n",
              "    (() => {\n",
              "      let quickchartButtonEl =\n",
              "        document.querySelector('#df-6a0495a4-98a8-4c16-9a2c-d3e954b12ce2 button');\n",
              "      quickchartButtonEl.style.display =\n",
              "        google.colab.kernel.accessAllowed ? 'block' : 'none';\n",
              "    })();\n",
              "  </script>\n",
              "</div>\n",
              "\n",
              "  <div id=\"id_489ce5e7-a3ea-4c88-8892-3965c17058b1\">\n",
              "    <style>\n",
              "      .colab-df-generate {\n",
              "        background-color: #E8F0FE;\n",
              "        border: none;\n",
              "        border-radius: 50%;\n",
              "        cursor: pointer;\n",
              "        display: none;\n",
              "        fill: #1967D2;\n",
              "        height: 32px;\n",
              "        padding: 0 0 0 0;\n",
              "        width: 32px;\n",
              "      }\n",
              "\n",
              "      .colab-df-generate:hover {\n",
              "        background-color: #E2EBFA;\n",
              "        box-shadow: 0px 1px 2px rgba(60, 64, 67, 0.3), 0px 1px 3px 1px rgba(60, 64, 67, 0.15);\n",
              "        fill: #174EA6;\n",
              "      }\n",
              "\n",
              "      [theme=dark] .colab-df-generate {\n",
              "        background-color: #3B4455;\n",
              "        fill: #D2E3FC;\n",
              "      }\n",
              "\n",
              "      [theme=dark] .colab-df-generate:hover {\n",
              "        background-color: #434B5C;\n",
              "        box-shadow: 0px 1px 3px 1px rgba(0, 0, 0, 0.15);\n",
              "        filter: drop-shadow(0px 1px 2px rgba(0, 0, 0, 0.3));\n",
              "        fill: #FFFFFF;\n",
              "      }\n",
              "    </style>\n",
              "    <button class=\"colab-df-generate\" onclick=\"generateWithVariable('fare_stats')\"\n",
              "            title=\"Generate code using this dataframe.\"\n",
              "            style=\"display:none;\">\n",
              "\n",
              "  <svg xmlns=\"http://www.w3.org/2000/svg\" height=\"24px\"viewBox=\"0 0 24 24\"\n",
              "       width=\"24px\">\n",
              "    <path d=\"M7,19H8.4L18.45,9,17,7.55,7,17.6ZM5,21V16.75L18.45,3.32a2,2,0,0,1,2.83,0l1.4,1.43a1.91,1.91,0,0,1,.58,1.4,1.91,1.91,0,0,1-.58,1.4L9.25,21ZM18.45,9,17,7.55Zm-12,3A5.31,5.31,0,0,0,4.9,8.1,5.31,5.31,0,0,0,1,6.5,5.31,5.31,0,0,0,4.9,4.9,5.31,5.31,0,0,0,6.5,1,5.31,5.31,0,0,0,8.1,4.9,5.31,5.31,0,0,0,12,6.5,5.46,5.46,0,0,0,6.5,12Z\"/>\n",
              "  </svg>\n",
              "    </button>\n",
              "    <script>\n",
              "      (() => {\n",
              "      const buttonEl =\n",
              "        document.querySelector('#id_489ce5e7-a3ea-4c88-8892-3965c17058b1 button.colab-df-generate');\n",
              "      buttonEl.style.display =\n",
              "        google.colab.kernel.accessAllowed ? 'block' : 'none';\n",
              "\n",
              "      buttonEl.onclick = () => {\n",
              "        google.colab.notebook.generateWithVariable('fare_stats');\n",
              "      }\n",
              "      })();\n",
              "    </script>\n",
              "  </div>\n",
              "\n",
              "    </div>\n",
              "  </div>\n"
            ],
            "application/vnd.google.colaboratory.intrinsic+json": {
              "type": "dataframe",
              "variable_name": "fare_stats",
              "summary": "{\n  \"name\": \"fare_stats\",\n  \"rows\": 3,\n  \"fields\": [\n    {\n      \"column\": \"Pclass\",\n      \"properties\": {\n        \"dtype\": \"number\",\n        \"std\": 1,\n        \"min\": 1,\n        \"max\": 3,\n        \"num_unique_values\": 3,\n        \"samples\": [\n          1,\n          2,\n          3\n        ],\n        \"semantic_type\": \"\",\n        \"description\": \"\"\n      }\n    },\n    {\n      \"column\": \"max\",\n      \"properties\": {\n        \"dtype\": \"number\",\n        \"std\": 254.50608677242542,\n        \"min\": 69.55,\n        \"max\": 512.3292,\n        \"num_unique_values\": 3,\n        \"samples\": [\n          512.3292,\n          73.5,\n          69.55\n        ],\n        \"semantic_type\": \"\",\n        \"description\": \"\"\n      }\n    },\n    {\n      \"column\": \"min\",\n      \"properties\": {\n        \"dtype\": \"number\",\n        \"std\": 0.0,\n        \"min\": 0.0,\n        \"max\": 0.0,\n        \"num_unique_values\": 1,\n        \"samples\": [\n          0.0\n        ],\n        \"semantic_type\": \"\",\n        \"description\": \"\"\n      }\n    },\n    {\n      \"column\": \"mean\",\n      \"properties\": {\n        \"dtype\": \"number\",\n        \"std\": 38.83173092143531,\n        \"min\": 13.675550101832993,\n        \"max\": 84.1546875,\n        \"num_unique_values\": 3,\n        \"samples\": [\n          84.1546875\n        ],\n        \"semantic_type\": \"\",\n        \"description\": \"\"\n      }\n    }\n  ]\n}"
            }
          },
          "metadata": {},
          "execution_count": 319
        }
      ]
    },
    {
      "cell_type": "code",
      "source": [
        "average_passenger_class = df.groupby('Pclass').agg({'Fare':'mean'}).reset_index()\n",
        "\n",
        "class1_avgfare = average_passenger_class.Fare[0]\n",
        "class2_avgfare = average_passenger_class.Fare[1]\n",
        "class3_avgfare = average_passenger_class.Fare[2]\n",
        "\n",
        "# plot bar chart\n",
        "x_labels_list = ['Class1', 'Class2', 'Class3']\n",
        "y_values_list = [class1_avgfare,class2_avgfare,class3_avgfare]\n",
        "\n",
        "plt.bar(x_labels_list,y_values_list,color=['blue','green','red'])\n",
        "# show value of each bar\n",
        "for index, value in enumerate(y_values_list):\n",
        "    plt.text(index, value, '$'+str(round(value,2)), ha='center', va='bottom')\n",
        "plt.title('Average Price for Each Pclass')\n",
        "plt.show()\n"
      ],
      "metadata": {
        "colab": {
          "base_uri": "https://localhost:8080/",
          "height": 452
        },
        "id": "F3t4qJkrQXBJ",
        "outputId": "4ea27c83-3068-47da-c262-09757df25b4e"
      },
      "execution_count": null,
      "outputs": [
        {
          "output_type": "display_data",
          "data": {
            "text/plain": [
              "<Figure size 640x480 with 1 Axes>"
            ],
            "image/png": "[encoded data removed]"
          },
          "metadata": {}
        }
      ]
    },
    {
      "cell_type": "code",
      "source": [
        "min_passenger_class = df.groupby('Pclass').agg({'Fare':'min'}).reset_index()\n",
        "\n",
        "class1_minfare = min_passenger_class.Fare[0]\n",
        "class2_minfare = min_passenger_class.Fare[1]\n",
        "class3_minfare = min_passenger_class.Fare[2]\n",
        "\n",
        "# plot bar chart\n",
        "x_labels_list = ['Class1', 'Class2', 'Class3']\n",
        "y_values_list = [class1_minfare,class2_minfare,class3_minfare]\n",
        "\n",
        "plt.bar(x_labels_list,y_values_list,color=['blue','green','red'])\n",
        "# show value of each bar\n",
        "for index, value in enumerate(y_values_list):\n",
        "    plt.text(index, value, '$'+str(round(value,2)), ha='center', va='bottom')\n",
        "plt.title('Minimum Price for Each Pclass')\n",
        "plt.show()"
      ],
      "metadata": {
        "colab": {
          "base_uri": "https://localhost:8080/",
          "height": 452
        },
        "id": "4WFRXB_wR0ww",
        "outputId": "dbf0ddba-c366-4940-ea1a-ed6692fd77a8"
      },
      "execution_count": null,
      "outputs": [
        {
          "output_type": "display_data",
          "data": {
            "text/plain": [
              "<Figure size 640x480 with 1 Axes>"
            ],
            "image/png": "[encoded data removed]"
          },
          "metadata": {}
        }
      ]
    },
    {
      "cell_type": "code",
      "source": [
        "max_passenger_class = df.groupby('Pclass').agg({'Fare':'max'}).reset_index()\n",
        "class1_maxfare = max_passenger_class.Fare[0]\n",
        "class2_maxfare = max_passenger_class.Fare[1]\n",
        "class3_maxfare = max_passenger_class.Fare[2]\n",
        "\n",
        "# plot bar chart\n",
        "x_labels_list = ['Class1', 'Class2', 'Class3']\n",
        "y_values_list = [class1_maxfare,class2_maxfare,class3_maxfare]\n",
        "\n",
        "plt.bar(x_labels_list,y_values_list,color=['blue','green','red'])\n",
        "# show value of each bar\n",
        "for index, value in enumerate(y_values_list):\n",
        "    plt.text(index, value, '$'+str(round(value,2)), ha='center', va='bottom')\n",
        "plt.title('Maximum Price for Each Pclass')\n",
        "plt.show()"
      ],
      "metadata": {
        "colab": {
          "base_uri": "https://localhost:8080/",
          "height": 452
        },
        "id": "fPmk0eM2R7Ou",
        "outputId": "fc6415e7-7735-42a8-cf9d-cdd61c3972c5"
      },
      "execution_count": null,
      "outputs": [
        {
          "output_type": "display_data",
          "data": {
            "text/plain": [
              "<Figure size 640x480 with 1 Axes>"
            ],
            "image/png": "[encoded data removed]"
          },
          "metadata": {}
        }
      ]
    },
    {
      "cell_type": "code",
      "source": [
        "# Which Age people survived the most 1-14 child , 14-30 adults , 30+ OLD\n",
        "child_df = df[df.Age <= 15]\n",
        "total_child_survived = child_df['Survived'].count()\n",
        "\n",
        "adult_df = df[(df['Age'] > 14) & (df['Age'] <= 30)]\n",
        "total_adult_survived = adult_df['Survived'].count()\n",
        "\n",
        "old_df = df[df.Age > 30]\n",
        "total_old_survived = child_df['Survived'].count()\n",
        "\n",
        "# plot bar chart\n",
        "x_labels_list = ['Child', 'Adult', 'Old']\n",
        "y_values_list = [total_child_survived,total_adult_survived,total_old_survived]\n",
        "\n",
        "plt.bar(x_labels_list,y_values_list,color=['blue','green','red'])\n",
        "# show value of each bar\n",
        "for index, value in enumerate(y_values_list):\n",
        "    plt.text(index, value, str(value), ha='center', va='bottom')\n",
        "plt.title('Total Survival by Age Group')\n",
        "plt.show()"
      ],
      "metadata": {
        "colab": {
          "base_uri": "https://localhost:8080/",
          "height": 452
        },
        "id": "JIt9oPv_R_-s",
        "outputId": "d1deb702-0d68-4c51-c901-eef37fa7599b"
      },
      "execution_count": null,
      "outputs": [
        {
          "output_type": "display_data",
          "data": {
            "text/plain": [
              "<Figure size 640x480 with 1 Axes>"
            ],
            "image/png": "[encoded data removed]"
          },
          "metadata": {}
        }
      ]
    },
    {
      "cell_type": "code",
      "source": [
        "# How many people were going to\n",
        "# C = Cherbourg, Q = Queenstown, S = Southampton also how many males and females\n",
        "\n",
        "destination_df = df.groupby('Embarked').count()\n",
        "destination_df\n",
        "C_df = destination_df[destination_df.index=='C']\n",
        "traveling_C = C_df.loc['C', 'PassengerId']\n",
        "\n",
        "Q_df = destination_df[destination_df.index=='Q']\n",
        "traveling_Q = Q_df.loc['Q', 'PassengerId']\n",
        "\n",
        "S_df = destination_df[destination_df.index=='S']\n",
        "traveling_S = S_df.loc['S', 'PassengerId']\n",
        "\n",
        "# plot bar chart\n",
        "x_labels_list = ['Cherbourg', 'Queenstown', 'Southampton']\n",
        "y_values_list = [traveling_C,traveling_Q,traveling_S]\n",
        "\n",
        "plt.bar(x_labels_list,y_values_list,color=['blue','green','red'])\n",
        "# show value of each bar\n",
        "for index, value in enumerate(y_values_list):\n",
        "    plt.text(index, value, str(value), ha='center', va='bottom')\n",
        "plt.title('People Travelling to Each Embarked')\n",
        "plt.show()"
      ],
      "metadata": {
        "colab": {
          "base_uri": "https://localhost:8080/",
          "height": 452
        },
        "id": "MIMNfsoSS936",
        "outputId": "c2e8d106-26ba-4113-e548-499eec726463"
      },
      "execution_count": null,
      "outputs": [
        {
          "output_type": "display_data",
          "data": {
            "text/plain": [
              "<Figure size 640x480 with 1 Axes>"
            ],
            "image/png": "[encoded data removed]"
          },
          "metadata": {}
        }
      ]
    },
    {
      "cell_type": "code",
      "source": [
        "# Remove unwanted observations\n",
        "clean_df = df.drop(['PassengerId','Name','Ticket'],axis=1)\n",
        "clean_df.info()"
      ],
      "metadata": {
        "colab": {
          "base_uri": "https://localhost:8080/"
        },
        "id": "BXR6_TgMXWp5",
        "outputId": "23ed9efe-7a7e-44d4-c447-c7544539096f"
      },
      "execution_count": null,
      "outputs": [
        {
          "output_type": "stream",
          "name": "stdout",
          "text": [
            "<class 'pandas.core.frame.DataFrame'>\n",
            "RangeIndex: 891 entries, 0 to 890\n",
            "Data columns (total 9 columns):\n",
            " #   Column    Non-Null Count  Dtype  \n",
            "---  ------    --------------  -----  \n",
            " 0   Survived  891 non-null    int64  \n",
            " 1   Pclass    891 non-null    int64  \n",
            " 2   Sex       891 non-null    object \n",
            " 3   Age       714 non-null    float64\n",
            " 4   SibSp     891 non-null    int64  \n",
            " 5   Parch     891 non-null    int64  \n",
            " 6   Fare      891 non-null    float64\n",
            " 7   Cabin     204 non-null    object \n",
            " 8   Embarked  889 non-null    object \n",
            "dtypes: float64(2), int64(4), object(3)\n",
            "memory usage: 62.8+ KB\n"
          ]
        }
      ]
    },
    {
      "cell_type": "code",
      "source": [
        "# Checking for Nan values\n",
        "num_cols = ['Survived','Pclass','Age','SibSp','Parch','Fare']\n",
        "check_nan = clean_df.isna().values.any()\n",
        "print(f\"Nan values found in the dataframe?: {check_nan}\")\n",
        "\n",
        "# check how many nan in each column\n",
        "clean_df.isna().sum()"
      ],
      "metadata": {
        "colab": {
          "base_uri": "https://localhost:8080/"
        },
        "id": "ur0fZSgOXprH",
        "outputId": "a353abd9-621b-490d-8ba6-e70e0922d4ac"
      },
      "execution_count": null,
      "outputs": [
        {
          "output_type": "stream",
          "name": "stdout",
          "text": [
            "Nan values found in the dataframe?: True\n"
          ]
        },
        {
          "output_type": "execute_result",
          "data": {
            "text/plain": [
              "Survived      0\n",
              "Pclass        0\n",
              "Sex           0\n",
              "Age         177\n",
              "SibSp         0\n",
              "Parch         0\n",
              "Fare          0\n",
              "Cabin       687\n",
              "Embarked      2\n",
              "dtype: int64"
            ]
          },
          "metadata": {},
          "execution_count": 265
        }
      ]
    },
    {
      "cell_type": "code",
      "source": [
        "# Number of missing values\n",
        "number_nan = clean_df['Age'].isna().values.sum()\n",
        "print(f\"There are {number_nan} missing values in the dataframe.\")\n",
        "\n",
        "number_nan = clean_df['Cabin'].isna().values.sum()\n",
        "print(f\"There are {number_nan} missing values in the dataframe.\")\n",
        "\n",
        "number_nan = clean_df['Embarked'].isna().values.sum()\n",
        "print(f\"There are {number_nan} missing values in the dataframe.\")"
      ],
      "metadata": {
        "colab": {
          "base_uri": "https://localhost:8080/"
        },
        "id": "1okQlpRcX5Qu",
        "outputId": "351abc43-7f36-4f2d-8ba4-400494210373"
      },
      "execution_count": null,
      "outputs": [
        {
          "output_type": "stream",
          "name": "stdout",
          "text": [
            "There are 177 missing values in the dataframe.\n",
            "There are 687 missing values in the dataframe.\n",
            "There are 2 missing values in the dataframe.\n"
          ]
        }
      ]
    },
    {
      "cell_type": "code",
      "source": [
        "# Remove Cabin column. It has too many nan values\n",
        "# clean_df.drop(['Cabin'],axis=1,inplace=True)\n",
        "clean_df.dtypes"
      ],
      "metadata": {
        "colab": {
          "base_uri": "https://localhost:8080/"
        },
        "id": "N1GNtYBuZwds",
        "outputId": "4594c138-a67e-433e-9a93-003d3782910f"
      },
      "execution_count": null,
      "outputs": [
        {
          "output_type": "execute_result",
          "data": {
            "text/plain": [
              "Survived      int64\n",
              "Pclass        int64\n",
              "Sex          object\n",
              "Age         float64\n",
              "SibSp         int64\n",
              "Parch         int64\n",
              "Fare        float64\n",
              "Cabin        object\n",
              "Embarked     object\n",
              "dtype: object"
            ]
          },
          "metadata": {},
          "execution_count": 267
        }
      ]
    },
    {
      "cell_type": "code",
      "source": [
        "import numpy as np\n",
        "from sklearn.impute import SimpleImputer\n",
        "\n",
        "\n",
        "# Categorical and Numerical Columns\n",
        "cat_col = clean_df.loc[:,df.dtypes==object]\n",
        "num_col = clean_df.loc[:,df.dtypes!=object]\n",
        "num_cols = num_col.columns\n",
        "\n",
        "# fill the rows with NA value\n",
        "num_mean = SimpleImputer(missing_values=np.nan, strategy='mean')\n",
        "num_mean.fit(num_col)\n",
        "\n",
        "num_col = num_mean.transform(num_col)\n",
        "num_col = pd.DataFrame(num_col,columns =num_cols)\n",
        "\n",
        "# converting age to int\n",
        "num_col['Age'] = num_col['Age'].astype(int)\n",
        "num_col\n",
        "\n",
        "total_df = pd.concat([cat_col,num_col],axis=1)\n"
      ],
      "metadata": {
        "id": "idIXBj2cayUV"
      },
      "execution_count": null,
      "outputs": []
    },
    {
      "cell_type": "code",
      "source": [
        "# Checking for Nan values\n",
        "check_nan = total_df.isna().values.any()\n",
        "print(f\"Nan values found in the dataframe?: {check_nan}\")\n",
        "\n",
        "# Removing the remaining rows with nan value\n",
        "total_df.dropna(inplace=True)"
      ],
      "metadata": {
        "colab": {
          "base_uri": "https://localhost:8080/"
        },
        "id": "BvIEGiNqeLd3",
        "outputId": "a2c3e768-58c5-48e2-c664-a1de15fffcba"
      },
      "execution_count": null,
      "outputs": [
        {
          "output_type": "stream",
          "name": "stdout",
          "text": [
            "Nan values found in the dataframe?: True\n"
          ]
        }
      ]
    },
    {
      "cell_type": "code",
      "source": [
        "total_df.isna().sum()"
      ],
      "metadata": {
        "colab": {
          "base_uri": "https://localhost:8080/"
        },
        "id": "VyF7Y3W2eXF-",
        "outputId": "92cf03fe-342a-4df3-f2d1-64dabed50b2b"
      },
      "execution_count": null,
      "outputs": [
        {
          "output_type": "execute_result",
          "data": {
            "text/plain": [
              "Sex         0\n",
              "Cabin       0\n",
              "Embarked    0\n",
              "Survived    0\n",
              "Pclass      0\n",
              "Age         0\n",
              "SibSp       0\n",
              "Parch       0\n",
              "Fare        0\n",
              "dtype: int64"
            ]
          },
          "metadata": {},
          "execution_count": 270
        }
      ]
    },
    {
      "cell_type": "code",
      "source": [
        "# label data\n",
        "Y = total_df['Survived']\n",
        "\n",
        "# Features data\n",
        "X = total_df.drop('Survived',axis=1)\n",
        "X.dtypes"
      ],
      "metadata": {
        "colab": {
          "base_uri": "https://localhost:8080/"
        },
        "id": "Ei2xLp-3dy6K",
        "outputId": "b38191b1-874a-44f0-dab9-de2fbd2040dd"
      },
      "execution_count": null,
      "outputs": [
        {
          "output_type": "execute_result",
          "data": {
            "text/plain": [
              "Sex          object\n",
              "Cabin        object\n",
              "Embarked     object\n",
              "Pclass      float64\n",
              "Age           int64\n",
              "SibSp       float64\n",
              "Parch       float64\n",
              "Fare        float64\n",
              "dtype: object"
            ]
          },
          "metadata": {},
          "execution_count": 271
        }
      ]
    },
    {
      "cell_type": "code",
      "source": [
        "# Seperating features into numerical and categorical\n",
        "categorical_X = X.loc[:,df.dtypes==object]\n",
        "num_X = X.loc[:,df.dtypes!=object]\n",
        "\n",
        "from sklearn.preprocessing import MinMaxScaler\n",
        "from sklearn.preprocessing import OneHotEncoder\n",
        "# minmax scalar for numerical features\n",
        "# scaler = MinMaxScaler()\n",
        "# scaler.fit(num_X)\n",
        "# print(scaler.data_max_)\n",
        "\n",
        "# using StandardScalar\n",
        "from sklearn.preprocessing import StandardScaler\n",
        "\n",
        "scaler = StandardScaler()\n",
        "scaler.fit(num_X)\n",
        "print(scaler.mean_)\n",
        "\n",
        "numerical_features = scaler.transform(num_X)\n",
        "\n",
        "# One hot encoding for categorical features\n",
        "categorical_features = categorical_X.astype(str)\n",
        "\n",
        "# Create instance of OneHotEncoder\n",
        "ENCODER = OneHotEncoder()\n",
        "ENCODER.fit(categorical_features)\n",
        "#print(ENCODER.categories_)\n",
        "encoded_categorical_features = ENCODER.transform(categorical_features).toarray()\n",
        "\n",
        "# Concatenate both numerical features and encoded categorical features\n",
        "features_data = np.concatenate([numerical_features,encoded_categorical_features],axis=1)\n"
      ],
      "metadata": {
        "colab": {
          "base_uri": "https://localhost:8080/"
        },
        "id": "200hR0ofewqh",
        "outputId": "c8daef02-2152-45fb-ef40-79428a16b086"
      },
      "execution_count": null,
      "outputs": [
        {
          "output_type": "stream",
          "name": "stdout",
          "text": [
            "[ 1.1980198  35.03465347  0.44554455  0.44059406 76.10330099]\n"
          ]
        }
      ]
    },
    {
      "cell_type": "code",
      "source": [
        "# One hot encoding for Label\n",
        "label_array = np.array(Y).reshape(-1,1)\n",
        "\n",
        "# ENCODER = OneHotEncoder()\n",
        "ENCODER.fit(label_array)\n",
        "print(ENCODER.categories_)\n",
        "encoded_Y = ENCODER.transform(label_array).toarray()"
      ],
      "metadata": {
        "colab": {
          "base_uri": "https://localhost:8080/"
        },
        "id": "Lwbilor_fRj9",
        "outputId": "61665998-8f2d-4196-8699-aecdea99949b"
      },
      "execution_count": null,
      "outputs": [
        {
          "output_type": "stream",
          "name": "stdout",
          "text": [
            "[array([0., 1.])]\n"
          ]
        }
      ]
    },
    {
      "cell_type": "code",
      "source": [
        "from sklearn.model_selection import train_test_split\n",
        "# Split the data into training and testing\n",
        "X_train, X_test, y_train, y_test = train_test_split(features_data,encoded_Y,test_size=.2)"
      ],
      "metadata": {
        "id": "K_mZ4WdwfrwT"
      },
      "execution_count": null,
      "outputs": []
    },
    {
      "cell_type": "code",
      "source": [
        "# KNN\n",
        "from sklearn.neighbors import KNeighborsClassifier\n",
        "\n",
        "knn = KNeighborsClassifier()\n",
        "\n",
        "# Model TRAINING; pass features and labels\n",
        "knn.fit(X_train,y_train)\n",
        "\n",
        "# Model PREDICTION. Pass Testing features only.\n",
        "pred_labels_knn = knn.predict(X_test)\n",
        "\n",
        "print(pred_labels_knn[1])\n",
        "print(y_test[1])\n",
        "\n",
        "# Convert arrays to lists for comparison\n",
        "y_pred_list = pred_labels_knn.tolist()\n",
        "y_test_list = y_test.tolist()\n",
        "\n",
        "# Accuracy of the model\n",
        "accuracy_knn = 0\n",
        "for x in range(len(pred_labels_knn)):\n",
        "  if y_pred_list[x] == y_test_list[x]:\n",
        "    accuracy_knn += 1\n",
        "accuracy_knn = round(accuracy_knn/len(pred_labels_knn)*100,2)\n",
        "print(f\"The accuracy of the KNN Model is {accuracy_knn}%\")"
      ],
      "metadata": {
        "colab": {
          "base_uri": "https://localhost:8080/"
        },
        "id": "9WrErhJOgT7M",
        "outputId": "2a221275-8809-4f9e-e838-82b2ffd551b4"
      },
      "execution_count": null,
      "outputs": [
        {
          "output_type": "stream",
          "name": "stdout",
          "text": [
            "[1. 0.]\n",
            "[1. 0.]\n",
            "The accuracy of the KNN Model is 70.73%\n"
          ]
        }
      ]
    },
    {
      "cell_type": "code",
      "source": [
        "# Decision Tree\n",
        "from sklearn.tree import DecisionTreeClassifier\n",
        "\n",
        "dec_tree = DecisionTreeClassifier()\n",
        "dec_tree.fit(X_train,y_train)\n",
        "\n",
        "pred_labels_dec_tree = dec_tree.predict(X_test)\n",
        "\n",
        "# Convert arrays to lists for comparison\n",
        "y_pred_list = pred_labels_dec_tree.tolist()\n",
        "y_test_list = y_test.tolist()\n",
        "\n",
        "# Accuracy of the model\n",
        "accuracy_decision_tree = 0\n",
        "for x in range(len(pred_labels_dec_tree)):\n",
        "  if y_pred_list[x] == y_test_list[x]:\n",
        "    accuracy_decision_tree += 1\n",
        "accuracy_decision_tree = round(accuracy_decision_tree/len(pred_labels_dec_tree)*100,2)\n",
        "print(f\"The accuracy of the Decision Tree Model is {accuracy_decision_tree}%\")"
      ],
      "metadata": {
        "colab": {
          "base_uri": "https://localhost:8080/"
        },
        "id": "6l2ifbDhgYkt",
        "outputId": "2e3fd9ab-83da-4e80-e588-b6a54dd5c5a6"
      },
      "execution_count": null,
      "outputs": [
        {
          "output_type": "stream",
          "name": "stdout",
          "text": [
            "The accuracy of the Decision Tree Model is 85.37%\n"
          ]
        }
      ]
    },
    {
      "cell_type": "code",
      "source": [
        "# Random Forest\n",
        "from sklearn.ensemble import RandomForestClassifier\n",
        "\n",
        "random = RandomForestClassifier()\n",
        "random.fit(X_train,y_train)\n",
        "\n",
        "pred_lbls_rf = random.predict(X_test)\n",
        "pred_lbls_rf.shape\n",
        "\n",
        "# Convert arrays to lists for comparison\n",
        "y_pred_list = pred_lbls_rf.tolist()\n",
        "y_test_list = y_test.tolist()\n",
        "\n",
        "# Accuracy of the model\n",
        "accuracy_random_forest = 0\n",
        "for x in range(len(y_pred_list)):\n",
        "  if y_pred_list[x] == y_test_list[x]:\n",
        "    accuracy_random_forest += 1\n",
        "accuracy_random_forest = round(accuracy_random_forest/len(y_pred_list)*100,2)\n",
        "print(f\"The accuracy of the Random Forest Model is {accuracy_random_forest}%\")"
      ],
      "metadata": {
        "colab": {
          "base_uri": "https://localhost:8080/"
        },
        "id": "HIDJquaIgZpX",
        "outputId": "e0b1147c-1360-4a16-bedc-4e2fa32a5527"
      },
      "execution_count": null,
      "outputs": [
        {
          "output_type": "stream",
          "name": "stdout",
          "text": [
            "The accuracy of the Random Forest Model is 82.93%\n"
          ]
        }
      ]
    }
  ]
}
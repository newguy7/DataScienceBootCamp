{
  "nbformat": 4,
  "nbformat_minor": 0,
  "metadata": {
    "colab": {
      "provenance": [],
      "authorship_tag": "ABX9TyOMA2m/o0qzXb1j1rmNHxOE",
      "include_colab_link": true
    },
    "kernelspec": {
      "name": "python3",
      "display_name": "Python 3"
    },
    "language_info": {
      "name": "python"
    }
  },
  "cells": [
    {
      "cell_type": "markdown",
      "metadata": {
        "id": "view-in-github",
        "colab_type": "text"
      },
      "source": [
        "<a href=\"https://colab.research.google.com/github/newguy7/DataScienceBootCamp/blob/main/ClassNotes/DecisionTree.ipynb\" target=\"_parent\"><img src=\"https://colab.research.google.com/assets/colab-badge.svg\" alt=\"Open In Colab\"/></a>"
      ]
    },
    {
      "cell_type": "code",
      "execution_count": null,
      "metadata": {
        "id": "QYSineOHRANr"
      },
      "outputs": [],
      "source": [
        "import pandas as pd\n",
        "\n",
        "data = pd.read_csv('iris.csv')"
      ]
    },
    {
      "cell_type": "code",
      "source": [
        "# Divide the data into features and labels\n",
        "X = data.iloc[:,:4]\n",
        "Y = data.iloc[:,4]\n"
      ],
      "metadata": {
        "id": "AYQ23NPTRLUq"
      },
      "execution_count": null,
      "outputs": []
    },
    {
      "cell_type": "code",
      "source": [
        "from sklearn.model_selection import train_test_split\n",
        "# Split the data into training and testing\n",
        "X_train, X_test, y_train, y_test = train_test_split(X,Y,test_size=.2)"
      ],
      "metadata": {
        "id": "tozQ4UXFRa5i"
      },
      "execution_count": null,
      "outputs": []
    },
    {
      "cell_type": "code",
      "source": [
        "from sklearn.tree import DecisionTreeClassifier\n",
        "\n",
        "dec_tree = DecisionTreeClassifier()\n",
        "dec_tree.fit(X_train,y_train)\n",
        "\n",
        "pred_labels = dec_tree.predict(X_test)\n",
        "print(pred_labels)"
      ],
      "metadata": {
        "colab": {
          "base_uri": "https://localhost:8080/"
        },
        "id": "dHwyql0vSWAK",
        "outputId": "edfb8bf7-3b71-4f50-9beb-143fb7dcc9d6"
      },
      "execution_count": null,
      "outputs": [
        {
          "output_type": "stream",
          "name": "stdout",
          "text": [
            "['Versicolor' 'Virginica' 'Setosa' 'Virginica' 'Virginica' 'Setosa'\n",
            " 'Virginica' 'Versicolor' 'Virginica' 'Virginica' 'Setosa' 'Virginica'\n",
            " 'Setosa' 'Virginica' 'Versicolor' 'Virginica' 'Setosa' 'Setosa'\n",
            " 'Versicolor' 'Versicolor' 'Setosa' 'Setosa' 'Virginica' 'Setosa'\n",
            " 'Virginica' 'Setosa' 'Versicolor' 'Versicolor' 'Versicolor' 'Virginica']\n"
          ]
        }
      ]
    },
    {
      "cell_type": "code",
      "source": [
        "# Accuracy of the model\n",
        "accuracy = 0\n",
        "for k in range(len(pred_labels)):\n",
        "  if pred_labels[k] == y_test.iloc[k]:\n",
        "    accuracy += 1\n",
        "accuracy = (accuracy/len(pred_labels))*100\n",
        "print(f\"The accuracy of the model is {round(accuracy,2)}%\")\n"
      ],
      "metadata": {
        "colab": {
          "base_uri": "https://localhost:8080/"
        },
        "id": "b6FJxoq5S7yw",
        "outputId": "b6644227-9b96-4cfa-fc25-db34adc54897"
      },
      "execution_count": null,
      "outputs": [
        {
          "output_type": "stream",
          "name": "stdout",
          "text": [
            "The accuracy of the model is 96.67%\n"
          ]
        }
      ]
    }
  ]
}
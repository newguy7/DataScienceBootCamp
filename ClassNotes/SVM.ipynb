{
  "nbformat": 4,
  "nbformat_minor": 0,
  "metadata": {
    "colab": {
      "provenance": [],
      "authorship_tag": "ABX9TyPgjD5BDXSf8+OAiRUKbcSB",
      "include_colab_link": true
    },
    "kernelspec": {
      "name": "python3",
      "display_name": "Python 3"
    },
    "language_info": {
      "name": "python"
    }
  },
  "cells": [
    {
      "cell_type": "markdown",
      "metadata": {
        "id": "view-in-github",
        "colab_type": "text"
      },
      "source": [
        "<a href=\"https://colab.research.google.com/github/newguy7/DataScienceBootCamp/blob/main/ClassNotes/SVM.ipynb\" target=\"_parent\"><img src=\"https://colab.research.google.com/assets/colab-badge.svg\" alt=\"Open In Colab\"/></a>"
      ]
    },
    {
      "cell_type": "code",
      "execution_count": null,
      "metadata": {
        "id": "awQWvJKMi_cT"
      },
      "outputs": [],
      "source": [
        "# Support Vector Machine\n",
        "import pandas as pd\n",
        "\n",
        "df = pd.read_csv(\"iris.csv\")"
      ]
    },
    {
      "cell_type": "code",
      "source": [
        "X = df.iloc[:,:4]\n",
        "Y = df.iloc[:,4]"
      ],
      "metadata": {
        "id": "fbKnes3XjNpb"
      },
      "execution_count": null,
      "outputs": []
    },
    {
      "cell_type": "code",
      "source": [
        "from sklearn.model_selection import train_test_split\n",
        "\n",
        "X_train, X_test, Y_train, Y_test = train_test_split(X,Y,test_size=0.2)"
      ],
      "metadata": {
        "id": "wqvXKVI4jSBh"
      },
      "execution_count": null,
      "outputs": []
    },
    {
      "cell_type": "code",
      "source": [
        "from sklearn.svm import SVC\n",
        "\n",
        "svm_model = SVC()\n",
        "\n",
        "svm_model.fit(X_train,Y_train)\n",
        "pred_lbls = svm_model.predict(X_test)"
      ],
      "metadata": {
        "id": "nyymS1vEkBz8"
      },
      "execution_count": null,
      "outputs": []
    },
    {
      "cell_type": "code",
      "source": [
        "accuracy = 0\n",
        "for k in range(len(pred_lbls)):\n",
        "  if pred_lbls[k] == Y_test.iloc[k]:\n",
        "    accuracy += 1\n",
        "accuracy = (accuracy/len(pred_lbls))* 100\n",
        "print(f\"The accuracy of the model is {round(accuracy,2)}%\")"
      ],
      "metadata": {
        "colab": {
          "base_uri": "https://localhost:8080/"
        },
        "id": "QFS9MH2ck_dh",
        "outputId": "93646e33-743c-42c8-b078-c957c60c5334"
      },
      "execution_count": null,
      "outputs": [
        {
          "output_type": "stream",
          "name": "stdout",
          "text": [
            "The accuracy of the model is 96.67%\n"
          ]
        }
      ]
    }
  ]
}